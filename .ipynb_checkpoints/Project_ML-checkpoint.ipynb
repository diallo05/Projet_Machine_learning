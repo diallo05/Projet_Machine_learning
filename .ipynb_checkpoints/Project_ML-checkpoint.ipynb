{
 "cells": [
  {
   "cell_type": "markdown",
   "id": "a76ec538-a30e-4eb2-8472-49b9fe6a4797",
   "metadata": {},
   "source": [
    "<div style=\"background-color: #fbe3d7; border: 2px solid #e3b59d; border-radius: 10px; padding: 20px; font-family: Arial, sans-serif; color: #801313; text-align: center;\">\n",
    "  <h2 style=\"margin: 0;\">\n",
    "    📊 🔍 Projet Machine learning <br>\n",
    "    Modélisation du pauvreté: <br>\n",
    "    <span style=\"font-weight: normal;\">Les Determinants de la pauvreté ?</span>\n",
    "  </h2>\n",
    "</div>\n"
   ]
  },
  {
   "cell_type": "markdown",
   "id": "685f919e-9daf-4d4f-af51-e8fe6463c579",
   "metadata": {},
   "source": [
    "<div style=\"background-color: #fdf1eb; border: 2px solid #e3b59d; border-radius: 10px; padding: 20px; font-family: 'Times New Roman', serif; color: #b33a3a; line-height: 1.6;\">\n",
    "  <h1 style=\"text-align: center; color: #a62828; font-weight: bold;\">Table of Contents</h1>\n",
    "  <ul style=\"list-style-type: square; margin-left: 20px;\">\n",
    "    <li><a href=\"#introduction\" style=\"color: #a62828; text-decoration: none;\">Introduction</a></li>\n",
    "      <li><a href=\"#source-données\" style=\"color: #a62828; text-decoration: none;\">Source des données</a></li>\n",
    "    <li><a href=\"#import-libraries\" style=\"color: #a62828; text-decoration: none;\">Importation des Libraries</a></li>\n",
    "      <li><a href=\"#import-data\" style=\"color: #a62828; text-decoration: none;\">Importation des jeu des données</a></li>\n",
    "    <li><a href=\"#explore-data\" style=\"color: #a62828; text-decoration: none;\">Exploration des données</a></li>\n",
    "    <ul style=\"list-style-type: circle; margin-left: 40px;\">\n",
    "      <li><a href=\"#select-variables\" style=\"color: #a62828; text-decoration: none;\">Selection des Variables</a></li>\n",
    "      <li><a href=\"#netoyage\" style=\"color: #a62828; text-decoration: none;\">Netoyage des Données</a></li>\n",
    "        <li><a href=\"#visualisation\" style=\"color: #a62828; text-decoration: none;\">Visualisations des Données</a></li>\n",
    "    </ul>\n",
    "    <li><a href=\"#feature-engineering\" style=\"color: #a62828; text-decoration: none;\">Feature Engineering</a></li>\n",
    "    <ul style=\"list-style-type: circle; margin-left: 40px;\">\n",
    "      <li><a href=\"#categorical-encoding\" style=\"color: #a62828; text-decoration: none;\">Categorical Encoding</a></li>\n",
    "      <li><a href=\"#scaling-data\" style=\"color: #a62828; text-decoration: none;\">Scaling the Data</a></li>\n",
    "    </ul>\n",
    "    <li><a href=\"#data-visualization\" style=\"color: #a62828; text-decoration: none;\">Data Visualization</a></li>\n",
    "    <ul style=\"list-style-type: circle; margin-left: 40px;\">\n",
    "      <li><a href=\"#poverty-distribution\" style=\"color: #a62828; text-decoration: none;\">Poverty Distribution</a></li>\n",
    "      <li><a href=\"#relationship-analysis\" style=\"color: #a62828; text-decoration: none;\">Relationship Between Features</a></li>\n",
    "    </ul>\n",
    "    <li><a href=\"#model-building\" style=\"color: #a62828; text-decoration: none;\">Model Building</a></li>\n",
    "    <ul style=\"list-style-type: circle; margin-left: 40px;\">\n",
    "      <li><a href=\"#model-selection\" style=\"color: #a62828; text-decoration: none;\">Model Selection</a></li>\n",
    "      <li><a href=\"#model-evaluation\" style=\"color: #a62828; text-decoration: none;\">Model Evaluation</a></li>\n",
    "    </ul>\n",
    "  </ul>\n",
    "</div>\n"
   ]
  },
  {
   "cell_type": "markdown",
   "id": "3529638d-c8f8-46d5-ab95-9dba561c3d73",
   "metadata": {},
   "source": [
    "<div id=\"introduction\" style=\"background-color: #fdf1eb; border: 2px solid #e3b59d; border-radius: 10px; padding: 20px; font-family: 'Times New Roman', serif; color: #b33a3a; text-align: justify; line-height: 1.6;\">\n",
    "  <h1  style=\"text-align: center; color: #a62828; font-weight: bold;\">Introduction</h1>\n",
    "</div>"
   ]
  },
  {
   "cell_type": "markdown",
   "id": "7b3a30f3-2fe9-45fa-9b29-b42bb31f1635",
   "metadata": {},
   "source": [
    "<div style=\"background-color: #f7f7f7; border: 3px solid #d1c7b7; border-radius: 15px; padding: 30px; font-family: 'Times New Roman', sans-serif; color: #333; text-align: justify; line-height: 1.8; box-shadow: 0 4px 8px rgba(0, 0, 0, 0.1);\">\n",
    "    <p>\n",
    "    La pauvreté est un défi majeur auquel de nombreux pays sont confrontés, et sa compréhension est essentielle pour orienter les politiques publiques et les interventions ciblées. \n",
    "    Ce projet vise à développer un modèle de machine learning capable de prédire si un ménage est pauvre ou non en fonction de ses caractéristiques socio-économiques et démographiques.\n",
    "  </p>\n",
    "  <p>\n",
    "    Grâce à l'analyse de données pertinentes, ce modèle permettra non seulement de mieux comprendre les facteurs associés à la pauvreté, mais aussi de fournir un outil prédictif utile pour les décideurs et les organisations travaillant dans le domaine de la lutte contre la pauvreté. \n",
    "    En automatisant cette analyse, le projet contribuera à identifier les ménages les plus vulnérables, facilitant ainsi la mise en œuvre de solutions adaptées et efficaces.\n",
    "  </p>\n",
    "</div>\n"
   ]
  },
  {
   "cell_type": "markdown",
   "id": "69556b5b-0aca-46d6-b6ad-8620cf8c4685",
   "metadata": {},
   "source": [
    "<div id=\"source-données\" style=\"background-color: #fdf1eb; border: 2px solid #e3b59d; border-radius: 10px; padding: 20px; font-family: 'Times New Roman', serif; color: #b33a3a; text-align: justify; line-height: 1.6;\">\n",
    "  <h1  style=\"text-align: center; color: #a62828; font-weight: bold;\">Source des données</h1>\n",
    "</div>"
   ]
  },
  {
   "cell_type": "markdown",
   "id": "80bc10ac-2432-49b6-9bc9-28b7ab020821",
   "metadata": {},
   "source": [
    "<div style=\"background-color: #f7f7f7; border: 3px solid #d1c7b7; border-radius: 15px; padding: 30px; font-family: 'Times New Roman', sans-serif; color: #333; text-align: justify; line-height: 1.8; box-shadow: 0 4px 8px rgba(0, 0, 0, 0.1);\">\n",
    "  <p style=\"font-size: 1.1em; margin-bottom: 20px; text-align: justify;\">\n",
    "    L’Enquête Permanente sur les Conditions de Vie des Ménages (EPCVM) 2019, menée par l’Agence Nationale de la Statistique et de l’Analyse Démographique et Économique (ANSADE), constitue une source précieuse pour analyser la pauvreté et les conditions de vie des ménages. Cette enquête vise à fournir des indicateurs détaillés sur les aspects socio-économiques et démographiques des ménages, permettant ainsi de dresser un portrait global des disparités et des vulnérabilités au sein de la population.\n",
    "  </p>\n",
    "  \n",
    "  <h3 style=\"color: #2a5d84; font-size: 1.5em; margin-bottom: 10px;\">Structure des données</h3>\n",
    "  <p style=\"font-size: 1.1em; margin-bottom: 20px;\">\n",
    "    Les données de l’EPCVM 2019 comprennent plusieurs catégories de variables, notamment :\n",
    "  </p>\n",
    "  \n",
    "  <ul style=\"font-size: 1.1em; margin-left: 20px; line-height: 1.8;\">\n",
    "    <li><strong>Caractéristiques démographiques :</strong> Taille des ménages, composition par âge et sexe, situation matrimoniale.</li>\n",
    "    <li><strong>Conditions économiques :</strong> Niveau de revenu, source principale de revenus, emploi et activité économique des membres actifs.</li>\n",
    "    <li><strong>Conditions de vie :</strong> Accès aux services de base tels que l’eau potable, l’électricité, et les infrastructures sanitaires.</li>\n",
    "    <li><strong>Éducation et santé :</strong> Niveau d’éducation des membres, accès aux soins médicaux, couverture sanitaire.</li>\n",
    "    <li><strong>Habitat et logement :</strong> Type de logement, matériaux de construction, nombre de pièces, densité de la population dans le logement.</li>\n",
    "  </ul>\n",
    "</div>\n"
   ]
  },
  {
   "cell_type": "markdown",
   "id": "8a141e53-cb6d-4727-9503-71c549b09785",
   "metadata": {},
   "source": [
    "<div id=\"import-libraries\" style=\"background-color: #fdf1eb; border: 2px solid #e3b59d; border-radius: 10px; padding: 20px; font-family: 'Times New Roman', serif; color: #b33a3a; text-align: justify; line-height: 1.6;\">\n",
    "  <h1 style=\"text-align: center; color: #a62828; font-weight: bold;\">Importation des bibliothèques</h1>\n",
    "</div>\n"
   ]
  },
  {
   "cell_type": "markdown",
   "id": "975af88f-c982-4a92-b786-b258f2e143a0",
   "metadata": {},
   "source": [
    "<p>Cette section contient toutes les bibliothèques nécessaires pour analyser et traiter les données...</p>"
   ]
  },
  {
   "cell_type": "code",
   "execution_count": 4,
   "id": "2a4bb344-ff3c-435e-a2fd-6fe5eae58970",
   "metadata": {},
   "outputs": [],
   "source": [
    "import pandas as pd \n",
    "import numpy as np \n",
    "import matplotlib.pyplot as plt\n",
    "import seaborn as sns"
   ]
  },
  {
   "cell_type": "code",
   "execution_count": 5,
   "id": "5fbe7118-d87c-4816-a194-67c432e2b9bd",
   "metadata": {},
   "outputs": [],
   "source": [
    "import warnings\n",
    "\n",
    "# Ignorer tous les warnings\n",
    "warnings.filterwarnings('ignore')\n"
   ]
  },
  {
   "cell_type": "markdown",
   "id": "ca125125-f5d2-4e89-a714-1ee110c3a30d",
   "metadata": {},
   "source": [
    "<div id=\"import-data\" style=\"background-color: #fdf1eb; border: 2px solid #e3b59d; border-radius: 10px; padding: 20px; font-family: 'Times New Roman', serif; color: #b33a3a; text-align: justify; line-height: 1.6;\">\n",
    "  <h1  style=\"text-align: center; color: #a62828; font-weight: bold;\">Importation du jeu des données</h1>\n",
    "</div>"
   ]
  },
  {
   "cell_type": "code",
   "execution_count": 6,
   "id": "c8ba8ef3-df62-413b-b442-cdb94b47d43b",
   "metadata": {},
   "outputs": [
    {
     "data": {
      "text/plain": [
       "(13705, 38)"
      ]
     },
     "execution_count": 6,
     "metadata": {},
     "output_type": "execute_result"
    }
   ],
   "source": [
    "data=pd.read_csv('EPCVM_2019.csv')\n",
    "data.shape"
   ]
  },
  {
   "cell_type": "markdown",
   "id": "94603426-a8fc-489b-8ef4-b8761f429654",
   "metadata": {},
   "source": [
    "<div style=\"background-color: #f7f7f7; border: 3px solid #d1c7b7; border-radius: 15px; padding: 30px; font-family: 'time new roman', sans-serif; color: #333; text-align: justify; line-height: 1.8; box-shadow: 0 4px 8px rgba(0, 0, 0, 0.1);\">\n",
    "    <p>\n",
    "   Notre jeu des données contient 13705 observations et 38 variables.\n",
    "  </p>\n",
    "</div>\n"
   ]
  },
  {
   "cell_type": "markdown",
   "id": "8d5db355-bcd3-4452-9a58-fce5f2ae1771",
   "metadata": {},
   "source": [
    "<div id=\"explore-data\" style=\"background-color: #fdf1eb; border: 2px solid #e3b59d; border-radius: 10px; padding: 20px; font-family: 'Times New Roman', serif; color: #b33a3a; text-align: justify; line-height: 1.6;\">\n",
    "  <h1 style=\"text-align: center; color: #a62828; font-weight: bold;\">Analyses Exploratoires des données</h1>\n",
    "</div>"
   ]
  },
  {
   "cell_type": "markdown",
   "id": "15334069-6d9d-4d72-bf48-1df34cd61b18",
   "metadata": {},
   "source": [
    "<div style=\"background-color: #f7f7f7; border: 3px solid #d1c7b7; border-radius: 15px; padding: 30px; font-family: 'time new roman', sans-serif; color: #333; text-align: justify; line-height: 1.8; box-shadow: 0 4px 8px rgba(0, 0, 0, 0.1);\">\n",
    "    <p>\n",
    "    Dans cette section vous allons faires des analyses exploratoires sur notre bases base des données on vas proceder par une selection des variables qu'on vas utiliser dans notre étude qui seront introduit dans notre modèl et ensuite faire faire des netoyages des données qui vas inclures gestion des valeurs manquantes detection des valeurs abérantes et finir par une visualisation des données.\n",
    "  </p>\n",
    "</div>\n"
   ]
  },
  {
   "cell_type": "markdown",
   "id": "396ed0a6-72c8-45b9-aa55-2baa45e29602",
   "metadata": {},
   "source": [
    "<div id=\"select-variables\" style=\"background-color: #fdf1eb; border: 2px solid #e3b59d; border-radius: 10px; padding: 20px; font-family: 'Times New Roman', serif; color: #b33a3a; text-align: justify; line-height: 1.6;\">\n",
    "  <h2 style=\"text-align: center; color: #a62828; font-weight: bold;\">Selection des Variales </h2>\n",
    "</div>"
   ]
  },
  {
   "cell_type": "code",
   "execution_count": 7,
   "id": "8b3aefa4-3447-49d1-84de-50e5e1af7151",
   "metadata": {},
   "outputs": [],
   "source": [
    "# Renomination des valeurs du variable milieu \n",
    "data['milieu']=data['milieu'].replace(['rural 2000'], \"Rural\")\n",
    "data['milieu']=data['milieu'].replace(['urbain 2000'], \"Urbain\")"
   ]
  },
  {
   "cell_type": "code",
   "execution_count": 8,
   "id": "a4fdc33e-7de4-4501-bd4c-a1ef752bdc98",
   "metadata": {},
   "outputs": [],
   "source": [
    "# selection des variables à etudier\n",
    "data_model=data[['milieu','wilaya', 'taille', 'typmen', 'sexecm','sitmatcm','nivcm','deptot','aliment','depeduc', 'autdep','depsante', 'logement' ,'transp','pauvre' ]]"
   ]
  },
  {
   "cell_type": "markdown",
   "id": "2b690635-c776-4dd8-a2a7-e68e7d28293f",
   "metadata": {},
   "source": [
    "<ul class=\"ul_content\">\n",
    "    <li><b>typmen</b> : Type de ménage</li>\n",
    "    <li><b>sexecm</b> : Sexe du chef de ménage</li>\n",
    "    <li><b>sitmatcm</b> : Situation matrimoniale du chef de ménage</li>\n",
    "    <li><b>nivcm</b> : Niveau d’éducation du chef de ménage</li>\n",
    "    <li><b>deptot</b> : Dépenses totales du ménage</li>\n",
    "    <li><b>aliment</b> : Dépenses alimentaires du ménage</li>\n",
    "    <li><b>depeduc</b> : Dépenses en éducation du ménage</li>\n",
    "    <li><b>autdep</b> : Autres dépenses du ménage</li>\n",
    "    <li><b>depsante</b> : Dépenses en santé du ménage</li>\n",
    "    <li><b>logement</b> : Dépenses liées au logement du ménage</li>\n",
    "    <li><b>transp</b> : Dépenses en transport du ménage</li>\n",
    "    <li><b>pauvre</b> : Indicateur de pauvreté du ménage (cible de prédiction)</li>\n",
    "</ul>\n"
   ]
  },
  {
   "cell_type": "markdown",
   "id": "81f12eda-e427-4328-b5fd-9505e6bbbbe2",
   "metadata": {},
   "source": [
    "<div id=\"netoyage\" style=\"background-color: #fdf1eb; border: 2px solid #e3b59d; border-radius: 10px; padding: 20px; font-family: 'Times New Roman', serif; color: #b33a3a; text-align: justify; line-height: 1.6;\">\n",
    "  <h2 style=\"text-align: center; color: #a62828; font-weight: bold;\">Netoyages des données </h2>\n",
    "</div>"
   ]
  },
  {
   "cell_type": "markdown",
   "id": "d7d2db68-852f-4e9f-8f2a-349388a12466",
   "metadata": {},
   "source": [
    "<div style=\"background-color: #f7f7f7; border: 3px solid #d1c7b7; border-radius: 15px; padding: 30px; font-family: 'time new roman', sans-serif; color: #333; text-align: justify; line-height: 1.8; box-shadow: 0 4px 8px rgba(0, 0, 0, 0.1);\">\n",
    "    <p>\n",
    "  Nous allons procéder à un nettoyage approfondi de notre base de données en identifiant et en traitant les valeurs manquantes, ainsi que les valeurs aberrantes. Cette étape est cruciale pour améliorer la qualité et la fiabilité des données, afin d'assurer des analyses plus précises et des résultats plus fiables. Nous allons utiliser diverses techniques pour combler les valeurs manquantes, comme l'imputation, et pour détecter et traiter les valeurs aberrantes, telles que les outliers. L'objectif est de rendre notre base de données propre et cohérente, ce qui facilitera les étapes suivantes de notre projet d'analyse ou de modélisation.\n",
    "  </p>\n",
    "</div>\n"
   ]
  },
  {
   "cell_type": "markdown",
   "id": "5b7dba88-d24e-4f19-b5a2-f41a6b174a5e",
   "metadata": {},
   "source": [
    "<div style=\"background-color: #fdf1eb; border: 2px solid #e3b59d; border-radius: 10px; padding: 20px; font-family: 'Times New Roman', serif; color: #b33a3a; text-align: justify; line-height: 1.6;\">\n",
    "  <h3 style=\"text-align: center; color: #a62828; font-weight: bold;\">Traitement des Valeurs manquantes </h3>\n",
    "</div>"
   ]
  },
  {
   "cell_type": "code",
   "execution_count": 9,
   "id": "3c4267a6-16db-4364-b391-c94b4fdf01fe",
   "metadata": {},
   "outputs": [
    {
     "data": {
      "text/html": [
       "<div>\n",
       "<style scoped>\n",
       "    .dataframe tbody tr th:only-of-type {\n",
       "        vertical-align: middle;\n",
       "    }\n",
       "\n",
       "    .dataframe tbody tr th {\n",
       "        vertical-align: top;\n",
       "    }\n",
       "\n",
       "    .dataframe thead th {\n",
       "        text-align: right;\n",
       "    }\n",
       "</style>\n",
       "<table border=\"1\" class=\"dataframe\">\n",
       "  <thead>\n",
       "    <tr style=\"text-align: right;\">\n",
       "      <th></th>\n",
       "      <th>index</th>\n",
       "      <th>% missing_value</th>\n",
       "    </tr>\n",
       "  </thead>\n",
       "  <tbody>\n",
       "    <tr>\n",
       "      <th>0</th>\n",
       "      <td>depsante</td>\n",
       "      <td>62.327618</td>\n",
       "    </tr>\n",
       "    <tr>\n",
       "      <th>1</th>\n",
       "      <td>transp</td>\n",
       "      <td>60.160525</td>\n",
       "    </tr>\n",
       "    <tr>\n",
       "      <th>2</th>\n",
       "      <td>depeduc</td>\n",
       "      <td>43.867202</td>\n",
       "    </tr>\n",
       "    <tr>\n",
       "      <th>3</th>\n",
       "      <td>logement</td>\n",
       "      <td>3.889092</td>\n",
       "    </tr>\n",
       "    <tr>\n",
       "      <th>4</th>\n",
       "      <td>autdep</td>\n",
       "      <td>1.094491</td>\n",
       "    </tr>\n",
       "    <tr>\n",
       "      <th>5</th>\n",
       "      <td>aliment</td>\n",
       "      <td>0.569135</td>\n",
       "    </tr>\n",
       "    <tr>\n",
       "      <th>6</th>\n",
       "      <td>sitmatcm</td>\n",
       "      <td>0.248085</td>\n",
       "    </tr>\n",
       "    <tr>\n",
       "      <th>7</th>\n",
       "      <td>deptot</td>\n",
       "      <td>0.072966</td>\n",
       "    </tr>\n",
       "  </tbody>\n",
       "</table>\n",
       "</div>"
      ],
      "text/plain": [
       "      index  % missing_value\n",
       "0  depsante        62.327618\n",
       "1    transp        60.160525\n",
       "2   depeduc        43.867202\n",
       "3  logement         3.889092\n",
       "4    autdep         1.094491\n",
       "5   aliment         0.569135\n",
       "6  sitmatcm         0.248085\n",
       "7    deptot         0.072966"
      ]
     },
     "execution_count": 9,
     "metadata": {},
     "output_type": "execute_result"
    }
   ],
   "source": [
    "data_missing_value=data_model.isnull().sum()\n",
    "data_missing_value=data_missing_value/len(data_model)*100\n",
    "\n",
    "missdata=data_missing_value.drop(data_missing_value[data_missing_value==0].index).sort_values(ascending=False).reset_index(name=('% missing_value'))\n",
    "missdata"
   ]
  },
  {
   "cell_type": "markdown",
   "id": "e494d70f-c0e6-4a5f-90e6-124f6a8ed931",
   "metadata": {},
   "source": [
    "<div style=\"background-color: #f7f7f7; border: 3px solid #d1c7b7; border-radius: 15px; padding: 30px; font-family: 'time new roman', sans-serif; color: #333; text-align: justify; line-height: 1.8; box-shadow: 0 4px 8px rgba(0, 0, 0, 0.1);\">\n",
    "    <p>\n",
    "On observe que nous avons des variables qui ont des valeurs manquantes surtout les variables depense en santé, dépense en transport et les dépense en éducation qui ont plus de 40% des valeurs manquantes.\n",
    "  </p>\n",
    "    <p> On vas utiliser la méthode imputation pour remplacer les valeurs manquante </p>\n",
    "    <ul>\n",
    "          <li> Pour la <b>Variable qualitative</b> nous allons remplacer les valeurs manquantes par le mode</li>\n",
    "        <li>Pour les <b>Variables Quantitatives</b> nous remplacer les valeurs manquantes aléatoirement mais en se basant sur une intervalle qui utlise la loi uniform</li> </ul>\n",
    "</div>\n"
   ]
  },
  {
   "cell_type": "code",
   "execution_count": 10,
   "id": "08d78114-5594-47e6-89e2-cc7ffcf6cc67",
   "metadata": {},
   "outputs": [],
   "source": [
    "# Remplacer les valeurs manquantes de la colonne 'sitmatcm' par la valeur la plus fréquente (mode)\n",
    "mode_value = data_model['sitmatcm'].mode()[0]  # Prendre la première valeur du mode\n",
    "data_model['sitmatcm'].fillna(mode_value, inplace=True)\n",
    "\n",
    "# Remplacons les valeurs manquantes des variables quantitatives aléatoirement \n",
    "import numpy as np\n",
    "\n",
    "# Liste des variables pour lesquelles je vais remplacer les valeurs manquantes\n",
    "variables = ['depsante', 'transp', 'depeduc', 'logement', 'autdep', 'aliment', 'deptot']\n",
    "\n",
    "# Parcourir chaque variable pour traiter les valeurs manquantes\n",
    "for var in variables:\n",
    "    # Calcul de la moyenne et de l'écart-type de la variable\n",
    "    mean_value = data_model[var].mean()\n",
    "    std_value = data_model[var].std()\n",
    "    \n",
    "    # Calcul du nombre de valeurs manquantes (NaN) dans la variable\n",
    "    na_count = data_model[var].isnull().sum()  # `sum()` donne le nombre de NaN\n",
    "    \n",
    "    # Générer des valeurs aléatoires dans l'intervalle [moyenne - écart-type, moyenne + écart-type]\n",
    "    random_values = np.random.uniform(mean_value - std_value, mean_value + std_value, na_count)\n",
    "    \n",
    "    # Remplacer les valeurs manquantes par les valeurs générées\n",
    "    data_model.loc[data_model[var].isnull(), var] = random_values\n"
   ]
  },
  {
   "cell_type": "code",
   "execution_count": 11,
   "id": "ee6d1d1d-ea91-4c53-a287-a127f4bbdba9",
   "metadata": {},
   "outputs": [
    {
     "name": "stdout",
     "output_type": "stream",
     "text": [
      "Pourcentage des valeurs manquantes dans la base de données : 0.00%\n"
     ]
    }
   ],
   "source": [
    "# Calculer le nombre total de valeurs manquantes dans toutes les colonnes\n",
    "total_missing = data_model.isnull().sum().sum()\n",
    "\n",
    "# Calculer le nombre total de valeurs dans la base de données\n",
    "total_values = data_model.size\n",
    "\n",
    "# Calculer le pourcentage de valeurs manquantes\n",
    "missing_percentage = (total_missing / total_values) * 100\n",
    "\n",
    "# Afficher le pourcentage de valeurs manquantes\n",
    "print(f\"Pourcentage des valeurs manquantes dans la base de données : {missing_percentage:.2f}%\")\n"
   ]
  },
  {
   "cell_type": "markdown",
   "id": "c88f4635-4ea4-4739-8f5c-c5000f284246",
   "metadata": {},
   "source": [
    "<div style=\"background-color: #f7f7f7; border: 3px solid #d1c7b7; border-radius: 15px; padding: 30px; font-family: 'time new roman', sans-serif; color: #333; text-align: justify; line-height: 1.8; box-shadow: 0 4px 8px rgba(0, 0, 0, 0.1);\">\n",
    "    <p>\n",
    "   Suite au processus de nettoyage des données, nous avons pu identifier et traiter toutes les valeurs manquantes dans notre base de données. Grâce à ce nettoyage, nous pouvons affirmer que notre base de données est désormais complète et ne contient plus de valeurs manquantes, ce qui garantit la qualité et la fiabilité des analyses futures.\n",
    "  </p>\n",
    "</div>\n"
   ]
  },
  {
   "cell_type": "markdown",
   "id": "48407a09-6b28-4638-9f25-95b20158c9f4",
   "metadata": {},
   "source": [
    "<div style=\"background-color: #fdf1eb; border: 2px solid #e3b59d; border-radius: 10px; padding: 20px; font-family: 'Times New Roman', serif; color: #b33a3a; text-align: justify; line-height: 1.6;\">\n",
    "  <h3 style=\"text-align: center; color: #a62828; font-weight: bold;\">Traitement des Valeurs Aberrantes </h3>\n",
    "</div>"
   ]
  },
  {
   "cell_type": "code",
   "execution_count": 12,
   "id": "2cf0ea24-31d2-4cfb-946d-4e989f9af906",
   "metadata": {},
   "outputs": [
    {
     "data": {
      "text/html": [
       "<div>\n",
       "<style scoped>\n",
       "    .dataframe tbody tr th:only-of-type {\n",
       "        vertical-align: middle;\n",
       "    }\n",
       "\n",
       "    .dataframe tbody tr th {\n",
       "        vertical-align: top;\n",
       "    }\n",
       "\n",
       "    .dataframe thead th {\n",
       "        text-align: right;\n",
       "    }\n",
       "</style>\n",
       "<table border=\"1\" class=\"dataframe\">\n",
       "  <thead>\n",
       "    <tr style=\"text-align: right;\">\n",
       "      <th></th>\n",
       "      <th>taille</th>\n",
       "      <th>deptot</th>\n",
       "      <th>aliment</th>\n",
       "      <th>depeduc</th>\n",
       "      <th>autdep</th>\n",
       "      <th>depsante</th>\n",
       "      <th>logement</th>\n",
       "      <th>transp</th>\n",
       "    </tr>\n",
       "  </thead>\n",
       "  <tbody>\n",
       "    <tr>\n",
       "      <th>count</th>\n",
       "      <td>13705.00</td>\n",
       "      <td>13705.00</td>\n",
       "      <td>13705.00</td>\n",
       "      <td>13705.00</td>\n",
       "      <td>13705.00</td>\n",
       "      <td>13705.00</td>\n",
       "      <td>13705.00</td>\n",
       "      <td>13705.00</td>\n",
       "    </tr>\n",
       "    <tr>\n",
       "      <th>mean</th>\n",
       "      <td>5.47</td>\n",
       "      <td>1044667.06</td>\n",
       "      <td>607488.08</td>\n",
       "      <td>17188.99</td>\n",
       "      <td>86610.49</td>\n",
       "      <td>108324.67</td>\n",
       "      <td>155959.31</td>\n",
       "      <td>66268.66</td>\n",
       "    </tr>\n",
       "    <tr>\n",
       "      <th>std</th>\n",
       "      <td>2.80</td>\n",
       "      <td>735962.66</td>\n",
       "      <td>333882.00</td>\n",
       "      <td>28660.08</td>\n",
       "      <td>75442.02</td>\n",
       "      <td>131026.52</td>\n",
       "      <td>250707.34</td>\n",
       "      <td>73256.34</td>\n",
       "    </tr>\n",
       "    <tr>\n",
       "      <th>min</th>\n",
       "      <td>1.00</td>\n",
       "      <td>3360.00</td>\n",
       "      <td>800.00</td>\n",
       "      <td>-16913.91</td>\n",
       "      <td>120.00</td>\n",
       "      <td>-63116.27</td>\n",
       "      <td>-97969.52</td>\n",
       "      <td>-28908.89</td>\n",
       "    </tr>\n",
       "    <tr>\n",
       "      <th>25%</th>\n",
       "      <td>3.00</td>\n",
       "      <td>571240.00</td>\n",
       "      <td>363610.00</td>\n",
       "      <td>3000.00</td>\n",
       "      <td>33844.00</td>\n",
       "      <td>25200.00</td>\n",
       "      <td>34800.00</td>\n",
       "      <td>16000.00</td>\n",
       "    </tr>\n",
       "    <tr>\n",
       "      <th>50%</th>\n",
       "      <td>5.00</td>\n",
       "      <td>875320.00</td>\n",
       "      <td>554600.00</td>\n",
       "      <td>9841.57</td>\n",
       "      <td>66760.00</td>\n",
       "      <td>86179.94</td>\n",
       "      <td>83000.00</td>\n",
       "      <td>50565.75</td>\n",
       "    </tr>\n",
       "    <tr>\n",
       "      <th>75%</th>\n",
       "      <td>7.00</td>\n",
       "      <td>1312540.00</td>\n",
       "      <td>793800.00</td>\n",
       "      <td>25800.00</td>\n",
       "      <td>116400.00</td>\n",
       "      <td>177188.18</td>\n",
       "      <td>186000.00</td>\n",
       "      <td>104625.00</td>\n",
       "    </tr>\n",
       "    <tr>\n",
       "      <th>max</th>\n",
       "      <td>36.00</td>\n",
       "      <td>11974960.00</td>\n",
       "      <td>4099540.00</td>\n",
       "      <td>568000.00</td>\n",
       "      <td>802740.00</td>\n",
       "      <td>6000000.00</td>\n",
       "      <td>5790000.00</td>\n",
       "      <td>1176000.00</td>\n",
       "    </tr>\n",
       "  </tbody>\n",
       "</table>\n",
       "</div>"
      ],
      "text/plain": [
       "         taille       deptot     aliment    depeduc     autdep    depsante  \\\n",
       "count  13705.00     13705.00    13705.00   13705.00   13705.00    13705.00   \n",
       "mean       5.47   1044667.06   607488.08   17188.99   86610.49   108324.67   \n",
       "std        2.80    735962.66   333882.00   28660.08   75442.02   131026.52   \n",
       "min        1.00      3360.00      800.00  -16913.91     120.00   -63116.27   \n",
       "25%        3.00    571240.00   363610.00    3000.00   33844.00    25200.00   \n",
       "50%        5.00    875320.00   554600.00    9841.57   66760.00    86179.94   \n",
       "75%        7.00   1312540.00   793800.00   25800.00  116400.00   177188.18   \n",
       "max       36.00  11974960.00  4099540.00  568000.00  802740.00  6000000.00   \n",
       "\n",
       "         logement      transp  \n",
       "count    13705.00    13705.00  \n",
       "mean    155959.31    66268.66  \n",
       "std     250707.34    73256.34  \n",
       "min     -97969.52   -28908.89  \n",
       "25%      34800.00    16000.00  \n",
       "50%      83000.00    50565.75  \n",
       "75%     186000.00   104625.00  \n",
       "max    5790000.00  1176000.00  "
      ]
     },
     "execution_count": 12,
     "metadata": {},
     "output_type": "execute_result"
    }
   ],
   "source": [
    "round(data_model.describe(), 2)"
   ]
  },
  {
   "cell_type": "markdown",
   "id": "aa9664f1-04fd-490c-a68d-aacd2a06290a",
   "metadata": {},
   "source": [
    "<div style=\"background-color: #f7f7f7; border: 3px solid #d1c7b7; border-radius: 15px; padding: 30px; font-family: 'time new roman', sans-serif; color: #333; text-align: justify; line-height: 1.8; box-shadow: 0 4px 8px rgba(0, 0, 0, 0.1);\">\n",
    "    <p>\n",
    "   D'après l'analyse descriptive de la base de données, nous constatons que les valeurs minimales des variables liées aux dépenses en éducation, santé, logement et transport sont négatives. Ce résultat est surprenant, car il est illogique d'avoir des montants négatifs dans ces domaines, ce qui suggère qu'il s'agit probablement de valeurs aberrantes. Une situation similaire est observée pour la variable représentant la taille des ménages, dont la valeur maximale semble également être une anomalie, car elle est bien au-delà des valeurs attendues. Ces valeurs extrêmes doivent être examinées de plus près, car elles pourraient fausser les analyses et les prédictions basées sur ces données. Il serait donc nécessaire de nettoyer et de traiter ces valeurs aberrantes afin d'améliorer la qualité des données utilisées pour les analyses ultérieures. \n",
    "  </p>\n",
    "</div>\n"
   ]
  },
  {
   "cell_type": "code",
   "execution_count": 13,
   "id": "5f8c3ba7-b9aa-4e51-80b7-65a11d98df34",
   "metadata": {},
   "outputs": [
    {
     "data": {
      "image/png": "[encoded data removed]",
      "text/plain": [
       "<Figure size 1000x600 with 1 Axes>"
      ]
     },
     "metadata": {},
     "output_type": "display_data"
    }
   ],
   "source": [
    "import matplotlib.pyplot as plt\n",
    "import seaborn as sns\n",
    "\n",
    "# Liste des variables\n",
    "variables = ['depsante', 'logement', 'transp', 'depeduc']\n",
    "\n",
    "# Créer le boxplot\n",
    "plt.figure(figsize=(10, 6))  # Taille de la figure\n",
    "\n",
    "# Utiliser seaborn pour créer le boxplot\n",
    "sns.boxplot(data=data_model[variables])\n",
    "\n",
    "# Ajouter des labels et un titre\n",
    "plt.title('Boxplot des Variables: depsante, logement, transp, depeduc')\n",
    "plt.xlabel('Variables')\n",
    "plt.ylabel('Valeurs')\n",
    "\n",
    "# Afficher le graphique\n",
    "plt.show()\n"
   ]
  },
  {
   "cell_type": "code",
   "execution_count": 14,
   "id": "897626b0-0e8e-461c-af53-4a143df71a6a",
   "metadata": {},
   "outputs": [
    {
     "name": "stdout",
     "output_type": "stream",
     "text": [
      "Nombre de lignes où 'depeduc' est négatif : 11.587012039401678\n"
     ]
    }
   ],
   "source": [
    "# Compter les lignes où la variable 'depeduc' est négative\n",
    "negative_depeduc_count = (data_model[data_model['depsante'] < 0].shape[0]/data_model.shape[0])*100\n",
    "\n",
    "# Afficher le nombre de lignes\n",
    "print(f\"Nombre de lignes où 'depeduc' est négatif : {negative_depeduc_count}\")\n"
   ]
  },
  {
   "cell_type": "code",
   "execution_count": 15,
   "id": "24db59ad-c6dd-4bfe-be88-03f53091a266",
   "metadata": {},
   "outputs": [],
   "source": [
    "# Remplacer les valeurs négatives de par leurs valeurs absolues\n",
    "data_model['depsante'] = data_model['depsante'].apply(lambda x: abs(x) if x < 0 else x)\n",
    "data_model['logement'] = data_model['logement'].apply(lambda x: abs(x) if x < 0 else x)\n",
    "data_model['transp'] = data_model['transp'].apply(lambda x: abs(x) if x < 0 else x)\n",
    "data_model['depeduc'] = data_model['depeduc'].apply(lambda x: abs(x) if x < 0 else x)\n",
    "\n",
    "\n"
   ]
  },
  {
   "cell_type": "code",
   "execution_count": 16,
   "id": "5c6c5adf-a3be-486a-839f-0226159a2063",
   "metadata": {},
   "outputs": [
    {
     "data": {
      "image/png": "[encoded data removed]",
      "text/plain": [
       "<Figure size 1000x600 with 1 Axes>"
      ]
     },
     "metadata": {},
     "output_type": "display_data"
    }
   ],
   "source": [
    "import matplotlib.pyplot as plt\n",
    "import seaborn as sns\n",
    "\n",
    "\n",
    "# Créer le boxplot\n",
    "plt.figure(figsize=(10, 6))  # Taille de la figure\n",
    "\n",
    "# Utiliser seaborn pour créer le boxplot\n",
    "sns.boxplot(data=data_model['taille'])\n",
    "\n",
    "# Ajouter des labels et un titre\n",
    "plt.title('Boxplot des Variables: depsante, logement, transp, depeduc')\n",
    "plt.xlabel('Variables')\n",
    "plt.ylabel('Valeurs')\n",
    "\n",
    "# Afficher le graphique\n",
    "plt.show()\n"
   ]
  },
  {
   "cell_type": "markdown",
   "id": "96f6fa09-c462-4c0e-a2fb-d2628a16090d",
   "metadata": {},
   "source": [
    "<div id=\"visualisation\" style=\"background-color: #fdf1eb; border: 2px solid #e3b59d; border-radius: 10px; padding: 20px; font-family: 'Times New Roman', serif; color: #b33a3a; text-align: justify; line-height: 1.6;\">\n",
    "  <h3 style=\"text-align: center; color: #a62828; font-weight: bold;\">Visualisations des Données </h3>\n",
    "</div>"
   ]
  },
  {
   "cell_type": "code",
   "execution_count": 33,
   "id": "a69d4ab3-399f-4d57-8ac7-e6abc56dba83",
   "metadata": {},
   "outputs": [
    {
     "data": {
      "text/html": [
       "<div class=\"bk-root\">\n",
       "        <a href=\"https://bokeh.org\" target=\"_blank\" class=\"bk-logo bk-logo-small bk-logo-notebook\"></a>\n",
       "        <span id=\"1593\">Loading BokehJS ...</span>\n",
       "    </div>\n"
      ]
     },
     "metadata": {},
     "output_type": "display_data"
    },
    {
     "data": {
      "application/javascript": [
       "(function(root) {\n",
       "  function now() {\n",
       "    return new Date();\n",
       "  }\n",
       "\n",
       "  const force = true;\n",
       "\n",
       "  if (typeof root._bokeh_onload_callbacks === \"undefined\" || force === true) {\n",
       "    root._bokeh_onload_callbacks = [];\n",
       "    root._bokeh_is_loading = undefined;\n",
       "  }\n",
       "\n",
       "const JS_MIME_TYPE = 'application/javascript';\n",
       "  const HTML_MIME_TYPE = 'text/html';\n",
       "  const EXEC_MIME_TYPE = 'application/vnd.bokehjs_exec.v0+json';\n",
       "  const CLASS_NAME = 'output_bokeh rendered_html';\n",
       "\n",
       "  /**\n",
       "   * Render data to the DOM node\n",
       "   */\n",
       "  function render(props, node) {\n",
       "    const script = document.createElement(\"script\");\n",
       "    node.appendChild(script);\n",
       "  }\n",
       "\n",
       "  /**\n",
       "   * Handle when an output is cleared or removed\n",
       "   */\n",
       "  function handleClearOutput(event, handle) {\n",
       "    const cell = handle.cell;\n",
       "\n",
       "    const id = cell.output_area._bokeh_element_id;\n",
       "    const server_id = cell.output_area._bokeh_server_id;\n",
       "    // Clean up Bokeh references\n",
       "    if (id != null && id in Bokeh.index) {\n",
       "      Bokeh.index[id].model.document.clear();\n",
       "      delete Bokeh.index[id];\n",
       "    }\n",
       "\n",
       "    if (server_id !== undefined) {\n",
       "      // Clean up Bokeh references\n",
       "      const cmd_clean = \"from bokeh.io.state import curstate; print(curstate().uuid_to_server['\" + server_id + \"'].get_sessions()[0].document.roots[0]._id)\";\n",
       "      cell.notebook.kernel.execute(cmd_clean, {\n",
       "        iopub: {\n",
       "          output: function(msg) {\n",
       "            const id = msg.content.text.trim();\n",
       "            if (id in Bokeh.index) {\n",
       "              Bokeh.index[id].model.document.clear();\n",
       "              delete Bokeh.index[id];\n",
       "            }\n",
       "          }\n",
       "        }\n",
       "      });\n",
       "      // Destroy server and session\n",
       "      const cmd_destroy = \"import bokeh.io.notebook as ion; ion.destroy_server('\" + server_id + \"')\";\n",
       "      cell.notebook.kernel.execute(cmd_destroy);\n",
       "    }\n",
       "  }\n",
       "\n",
       "  /**\n",
       "   * Handle when a new output is added\n",
       "   */\n",
       "  function handleAddOutput(event, handle) {\n",
       "    const output_area = handle.output_area;\n",
       "    const output = handle.output;\n",
       "\n",
       "    // limit handleAddOutput to display_data with EXEC_MIME_TYPE content only\n",
       "    if ((output.output_type != \"display_data\") || (!Object.prototype.hasOwnProperty.call(output.data, EXEC_MIME_TYPE))) {\n",
       "      return\n",
       "    }\n",
       "\n",
       "    const toinsert = output_area.element.find(\".\" + CLASS_NAME.split(' ')[0]);\n",
       "\n",
       "    if (output.metadata[EXEC_MIME_TYPE][\"id\"] !== undefined) {\n",
       "      toinsert[toinsert.length - 1].firstChild.textContent = output.data[JS_MIME_TYPE];\n",
       "      // store reference to embed id on output_area\n",
       "      output_area._bokeh_element_id = output.metadata[EXEC_MIME_TYPE][\"id\"];\n",
       "    }\n",
       "    if (output.metadata[EXEC_MIME_TYPE][\"server_id\"] !== undefined) {\n",
       "      const bk_div = document.createElement(\"div\");\n",
       "      bk_div.innerHTML = output.data[HTML_MIME_TYPE];\n",
       "      const script_attrs = bk_div.children[0].attributes;\n",
       "      for (let i = 0; i < script_attrs.length; i++) {\n",
       "        toinsert[toinsert.length - 1].firstChild.setAttribute(script_attrs[i].name, script_attrs[i].value);\n",
       "        toinsert[toinsert.length - 1].firstChild.textContent = bk_div.children[0].textContent\n",
       "      }\n",
       "      // store reference to server id on output_area\n",
       "      output_area._bokeh_server_id = output.metadata[EXEC_MIME_TYPE][\"server_id\"];\n",
       "    }\n",
       "  }\n",
       "\n",
       "  function register_renderer(events, OutputArea) {\n",
       "\n",
       "    function append_mime(data, metadata, element) {\n",
       "      // create a DOM node to render to\n",
       "      const toinsert = this.create_output_subarea(\n",
       "        metadata,\n",
       "        CLASS_NAME,\n",
       "        EXEC_MIME_TYPE\n",
       "      );\n",
       "      this.keyboard_manager.register_events(toinsert);\n",
       "      // Render to node\n",
       "      const props = {data: data, metadata: metadata[EXEC_MIME_TYPE]};\n",
       "      render(props, toinsert[toinsert.length - 1]);\n",
       "      element.append(toinsert);\n",
       "      return toinsert\n",
       "    }\n",
       "\n",
       "    /* Handle when an output is cleared or removed */\n",
       "    events.on('clear_output.CodeCell', handleClearOutput);\n",
       "    events.on('delete.Cell', handleClearOutput);\n",
       "\n",
       "    /* Handle when a new output is added */\n",
       "    events.on('output_added.OutputArea', handleAddOutput);\n",
       "\n",
       "    /**\n",
       "     * Register the mime type and append_mime function with output_area\n",
       "     */\n",
       "    OutputArea.prototype.register_mime_type(EXEC_MIME_TYPE, append_mime, {\n",
       "      /* Is output safe? */\n",
       "      safe: true,\n",
       "      /* Index of renderer in `output_area.display_order` */\n",
       "      index: 0\n",
       "    });\n",
       "  }\n",
       "\n",
       "  // register the mime type if in Jupyter Notebook environment and previously unregistered\n",
       "  if (root.Jupyter !== undefined) {\n",
       "    const events = require('base/js/events');\n",
       "    const OutputArea = require('notebook/js/outputarea').OutputArea;\n",
       "\n",
       "    if (OutputArea.prototype.mime_types().indexOf(EXEC_MIME_TYPE) == -1) {\n",
       "      register_renderer(events, OutputArea);\n",
       "    }\n",
       "  }\n",
       "  if (typeof (root._bokeh_timeout) === \"undefined\" || force === true) {\n",
       "    root._bokeh_timeout = Date.now() + 5000;\n",
       "    root._bokeh_failed_load = false;\n",
       "  }\n",
       "\n",
       "  const NB_LOAD_WARNING = {'data': {'text/html':\n",
       "     \"<div style='background-color: #fdd'>\\n\"+\n",
       "     \"<p>\\n\"+\n",
       "     \"BokehJS does not appear to have successfully loaded. If loading BokehJS from CDN, this \\n\"+\n",
       "     \"may be due to a slow or bad network connection. Possible fixes:\\n\"+\n",
       "     \"</p>\\n\"+\n",
       "     \"<ul>\\n\"+\n",
       "     \"<li>re-rerun `output_notebook()` to attempt to load from CDN again, or</li>\\n\"+\n",
       "     \"<li>use INLINE resources instead, as so:</li>\\n\"+\n",
       "     \"</ul>\\n\"+\n",
       "     \"<code>\\n\"+\n",
       "     \"from bokeh.resources import INLINE\\n\"+\n",
       "     \"output_notebook(resources=INLINE)\\n\"+\n",
       "     \"</code>\\n\"+\n",
       "     \"</div>\"}};\n",
       "\n",
       "  function display_loaded() {\n",
       "    const el = document.getElementById(\"1593\");\n",
       "    if (el != null) {\n",
       "      el.textContent = \"BokehJS is loading...\";\n",
       "    }\n",
       "    if (root.Bokeh !== undefined) {\n",
       "      if (el != null) {\n",
       "        el.textContent = \"BokehJS \" + root.Bokeh.version + \" successfully loaded.\";\n",
       "      }\n",
       "    } else if (Date.now() < root._bokeh_timeout) {\n",
       "      setTimeout(display_loaded, 100)\n",
       "    }\n",
       "  }\n",
       "\n",
       "  function run_callbacks() {\n",
       "    try {\n",
       "      root._bokeh_onload_callbacks.forEach(function(callback) {\n",
       "        if (callback != null)\n",
       "          callback();\n",
       "      });\n",
       "    } finally {\n",
       "      delete root._bokeh_onload_callbacks\n",
       "    }\n",
       "    console.debug(\"Bokeh: all callbacks have finished\");\n",
       "  }\n",
       "\n",
       "  function load_libs(css_urls, js_urls, callback) {\n",
       "    if (css_urls == null) css_urls = [];\n",
       "    if (js_urls == null) js_urls = [];\n",
       "\n",
       "    root._bokeh_onload_callbacks.push(callback);\n",
       "    if (root._bokeh_is_loading > 0) {\n",
       "      console.debug(\"Bokeh: BokehJS is being loaded, scheduling callback at\", now());\n",
       "      return null;\n",
       "    }\n",
       "    if (js_urls == null || js_urls.length === 0) {\n",
       "      run_callbacks();\n",
       "      return null;\n",
       "    }\n",
       "    console.debug(\"Bokeh: BokehJS not loaded, scheduling load and callback at\", now());\n",
       "    root._bokeh_is_loading = css_urls.length + js_urls.length;\n",
       "\n",
       "    function on_load() {\n",
       "      root._bokeh_is_loading--;\n",
       "      if (root._bokeh_is_loading === 0) {\n",
       "        console.debug(\"Bokeh: all BokehJS libraries/stylesheets loaded\");\n",
       "        run_callbacks()\n",
       "      }\n",
       "    }\n",
       "\n",
       "    function on_error(url) {\n",
       "      console.error(\"failed to load \" + url);\n",
       "    }\n",
       "\n",
       "    for (let i = 0; i < css_urls.length; i++) {\n",
       "      const url = css_urls[i];\n",
       "      const element = document.createElement(\"link\");\n",
       "      element.onload = on_load;\n",
       "      element.onerror = on_error.bind(null, url);\n",
       "      element.rel = \"stylesheet\";\n",
       "      element.type = \"text/css\";\n",
       "      element.href = url;\n",
       "      console.debug(\"Bokeh: injecting link tag for BokehJS stylesheet: \", url);\n",
       "      document.body.appendChild(element);\n",
       "    }\n",
       "\n",
       "    for (let i = 0; i < js_urls.length; i++) {\n",
       "      const url = js_urls[i];\n",
       "      const element = document.createElement('script');\n",
       "      element.onload = on_load;\n",
       "      element.onerror = on_error.bind(null, url);\n",
       "      element.async = false;\n",
       "      element.src = url;\n",
       "      console.debug(\"Bokeh: injecting script tag for BokehJS library: \", url);\n",
       "      document.head.appendChild(element);\n",
       "    }\n",
       "  };\n",
       "\n",
       "  function inject_raw_css(css) {\n",
       "    const element = document.createElement(\"style\");\n",
       "    element.appendChild(document.createTextNode(css));\n",
       "    document.body.appendChild(element);\n",
       "  }\n",
       "\n",
       "  const js_urls = [\"https://cdn.bokeh.org/bokeh/release/bokeh-2.4.3.min.js\", \"https://cdn.bokeh.org/bokeh/release/bokeh-gl-2.4.3.min.js\", \"https://cdn.bokeh.org/bokeh/release/bokeh-widgets-2.4.3.min.js\", \"https://cdn.bokeh.org/bokeh/release/bokeh-tables-2.4.3.min.js\", \"https://cdn.bokeh.org/bokeh/release/bokeh-mathjax-2.4.3.min.js\"];\n",
       "  const css_urls = [];\n",
       "\n",
       "  const inline_js = [    function(Bokeh) {\n",
       "      Bokeh.set_log_level(\"info\");\n",
       "    },\n",
       "function(Bokeh) {\n",
       "    }\n",
       "  ];\n",
       "\n",
       "  function run_inline_js() {\n",
       "    if (root.Bokeh !== undefined || force === true) {\n",
       "          for (let i = 0; i < inline_js.length; i++) {\n",
       "      inline_js[i].call(root, root.Bokeh);\n",
       "    }\n",
       "if (force === true) {\n",
       "        display_loaded();\n",
       "      }} else if (Date.now() < root._bokeh_timeout) {\n",
       "      setTimeout(run_inline_js, 100);\n",
       "    } else if (!root._bokeh_failed_load) {\n",
       "      console.log(\"Bokeh: BokehJS failed to load within specified timeout.\");\n",
       "      root._bokeh_failed_load = true;\n",
       "    } else if (force !== true) {\n",
       "      const cell = $(document.getElementById(\"1593\")).parents('.cell').data().cell;\n",
       "      cell.output_area.append_execute_result(NB_LOAD_WARNING)\n",
       "    }\n",
       "  }\n",
       "\n",
       "  if (root._bokeh_is_loading === 0) {\n",
       "    console.debug(\"Bokeh: BokehJS loaded, going straight to plotting\");\n",
       "    run_inline_js();\n",
       "  } else {\n",
       "    load_libs(css_urls, js_urls, function() {\n",
       "      console.debug(\"Bokeh: BokehJS plotting callback run at\", now());\n",
       "      run_inline_js();\n",
       "    });\n",
       "  }\n",
       "}(window));"
      ],
      "application/vnd.bokehjs_load.v0+json": "(function(root) {\n  function now() {\n    return new Date();\n  }\n\n  const force = true;\n\n  if (typeof root._bokeh_onload_callbacks === \"undefined\" || force === true) {\n    root._bokeh_onload_callbacks = [];\n    root._bokeh_is_loading = undefined;\n  }\n\n\n  if (typeof (root._bokeh_timeout) === \"undefined\" || force === true) {\n    root._bokeh_timeout = Date.now() + 5000;\n    root._bokeh_failed_load = false;\n  }\n\n  const NB_LOAD_WARNING = {'data': {'text/html':\n     \"<div style='background-color: #fdd'>\\n\"+\n     \"<p>\\n\"+\n     \"BokehJS does not appear to have successfully loaded. If loading BokehJS from CDN, this \\n\"+\n     \"may be due to a slow or bad network connection. Possible fixes:\\n\"+\n     \"</p>\\n\"+\n     \"<ul>\\n\"+\n     \"<li>re-rerun `output_notebook()` to attempt to load from CDN again, or</li>\\n\"+\n     \"<li>use INLINE resources instead, as so:</li>\\n\"+\n     \"</ul>\\n\"+\n     \"<code>\\n\"+\n     \"from bokeh.resources import INLINE\\n\"+\n     \"output_notebook(resources=INLINE)\\n\"+\n     \"</code>\\n\"+\n     \"</div>\"}};\n\n  function display_loaded() {\n    const el = document.getElementById(\"1593\");\n    if (el != null) {\n      el.textContent = \"BokehJS is loading...\";\n    }\n    if (root.Bokeh !== undefined) {\n      if (el != null) {\n        el.textContent = \"BokehJS \" + root.Bokeh.version + \" successfully loaded.\";\n      }\n    } else if (Date.now() < root._bokeh_timeout) {\n      setTimeout(display_loaded, 100)\n    }\n  }\n\n  function run_callbacks() {\n    try {\n      root._bokeh_onload_callbacks.forEach(function(callback) {\n        if (callback != null)\n          callback();\n      });\n    } finally {\n      delete root._bokeh_onload_callbacks\n    }\n    console.debug(\"Bokeh: all callbacks have finished\");\n  }\n\n  function load_libs(css_urls, js_urls, callback) {\n    if (css_urls == null) css_urls = [];\n    if (js_urls == null) js_urls = [];\n\n    root._bokeh_onload_callbacks.push(callback);\n    if (root._bokeh_is_loading > 0) {\n      console.debug(\"Bokeh: BokehJS is being loaded, scheduling callback at\", now());\n      return null;\n    }\n    if (js_urls == null || js_urls.length === 0) {\n      run_callbacks();\n      return null;\n    }\n    console.debug(\"Bokeh: BokehJS not loaded, scheduling load and callback at\", now());\n    root._bokeh_is_loading = css_urls.length + js_urls.length;\n\n    function on_load() {\n      root._bokeh_is_loading--;\n      if (root._bokeh_is_loading === 0) {\n        console.debug(\"Bokeh: all BokehJS libraries/stylesheets loaded\");\n        run_callbacks()\n      }\n    }\n\n    function on_error(url) {\n      console.error(\"failed to load \" + url);\n    }\n\n    for (let i = 0; i < css_urls.length; i++) {\n      const url = css_urls[i];\n      const element = document.createElement(\"link\");\n      element.onload = on_load;\n      element.onerror = on_error.bind(null, url);\n      element.rel = \"stylesheet\";\n      element.type = \"text/css\";\n      element.href = url;\n      console.debug(\"Bokeh: injecting link tag for BokehJS stylesheet: \", url);\n      document.body.appendChild(element);\n    }\n\n    for (let i = 0; i < js_urls.length; i++) {\n      const url = js_urls[i];\n      const element = document.createElement('script');\n      element.onload = on_load;\n      element.onerror = on_error.bind(null, url);\n      element.async = false;\n      element.src = url;\n      console.debug(\"Bokeh: injecting script tag for BokehJS library: \", url);\n      document.head.appendChild(element);\n    }\n  };\n\n  function inject_raw_css(css) {\n    const element = document.createElement(\"style\");\n    element.appendChild(document.createTextNode(css));\n    document.body.appendChild(element);\n  }\n\n  const js_urls = [\"https://cdn.bokeh.org/bokeh/release/bokeh-2.4.3.min.js\", \"https://cdn.bokeh.org/bokeh/release/bokeh-gl-2.4.3.min.js\", \"https://cdn.bokeh.org/bokeh/release/bokeh-widgets-2.4.3.min.js\", \"https://cdn.bokeh.org/bokeh/release/bokeh-tables-2.4.3.min.js\", \"https://cdn.bokeh.org/bokeh/release/bokeh-mathjax-2.4.3.min.js\"];\n  const css_urls = [];\n\n  const inline_js = [    function(Bokeh) {\n      Bokeh.set_log_level(\"info\");\n    },\nfunction(Bokeh) {\n    }\n  ];\n\n  function run_inline_js() {\n    if (root.Bokeh !== undefined || force === true) {\n          for (let i = 0; i < inline_js.length; i++) {\n      inline_js[i].call(root, root.Bokeh);\n    }\nif (force === true) {\n        display_loaded();\n      }} else if (Date.now() < root._bokeh_timeout) {\n      setTimeout(run_inline_js, 100);\n    } else if (!root._bokeh_failed_load) {\n      console.log(\"Bokeh: BokehJS failed to load within specified timeout.\");\n      root._bokeh_failed_load = true;\n    } else if (force !== true) {\n      const cell = $(document.getElementById(\"1593\")).parents('.cell').data().cell;\n      cell.output_area.append_execute_result(NB_LOAD_WARNING)\n    }\n  }\n\n  if (root._bokeh_is_loading === 0) {\n    console.debug(\"Bokeh: BokehJS loaded, going straight to plotting\");\n    run_inline_js();\n  } else {\n    load_libs(css_urls, js_urls, function() {\n      console.debug(\"Bokeh: BokehJS plotting callback run at\", now());\n      run_inline_js();\n    });\n  }\n}(window));"
     },
     "metadata": {},
     "output_type": "display_data"
    }
   ],
   "source": [
    "from bokeh.plotting import figure, show\n",
    "from bokeh.models import ColumnDataSource, HoverTool\n",
    "from bokeh.colors import named\n",
    "\n",
    "import bokeh.io\n",
    "bokeh.io.reset_output()\n",
    "bokeh.io.output_notebook()\n",
    "\n",
    "# Comptage des catégories dans data_model.pauvre\n",
    "data_pauvre = data_model['pauvre'].value_counts()\n",
    "categories = data_pauvre.index.tolist()  \n",
    "values = data_pauvre.values.tolist()  \n",
    "\n",
    "# Calcul des pourcentages\n",
    "total = sum(values)\n",
    "percentages = [(value / total) * 100 for value in values]\n",
    "\n",
    "# Création d'une source compatible avec Bokeh\n",
    "data = ColumnDataSource(data=dict(\n",
    "    categories=categories,\n",
    "    counts=percentages,  # Utilisation des pourcentages\n",
    "    colors=[named.green, named.red]\n",
    "))\n",
    "\n",
    "# Création du graphique\n",
    "p1 = figure(\n",
    "    x_range=categories,  # Les catégories pour l'axe X\n",
    "    title=\"Répartition des ménages (%)\",\n",
    "    width=400,  # Largeur du graphique\n",
    "    height=300)\n",
    "\n",
    "# Ajout des barres\n",
    "p1.vbar(\n",
    "    x='categories',\n",
    "    top='counts',\n",
    "    width=0.2,\n",
    "    fill_color='colors',  # Référence à la colonne des couleurs\n",
    "    source=data,\n",
    ")\n",
    "# Personnalisation de la légende et des outils\n",
    "p1.legend.location = \"top_right\"\n",
    "\n",
    "hover = HoverTool()\n",
    "hover.tooltips = [\n",
    "    ('Catégorie', '@categories'),\n",
    "    ('Pourcentage', '@counts{0.2f}%'),  # Formate les pourcentages avec deux décimales\n",
    "]\n",
    "p1.add_tools(hover)\n",
    "\n",
    "# Affichage\n",
    "#show(p1)\n"
   ]
  },
  {
   "cell_type": "code",
   "execution_count": 20,
   "id": "e95ae2da-7706-418b-82ad-fa98d013f03a",
   "metadata": {},
   "outputs": [
    {
     "data": {
      "image/png": "[encoded data removed]",
      "text/plain": [
       "<Figure size 1600x1000 with 2 Axes>"
      ]
     },
     "metadata": {},
     "output_type": "display_data"
    }
   ],
   "source": [
    "plt.figure(figsize=(16,10))\n",
    "sns.heatmap(data_model.corr(),\n",
    "           cmap='Blues',\n",
    "           annot=True,\n",
    "           square=True)\n",
    "plt.show()"
   ]
  },
  {
   "cell_type": "code",
   "execution_count": 24,
   "id": "c7a26644-65d0-4e4a-a629-0afa602174d5",
   "metadata": {},
   "outputs": [],
   "source": [
    "df_quanti=data_model.select_dtypes(exclude=['float64', 'float32'])"
   ]
  },
  {
   "cell_type": "code",
   "execution_count": 31,
   "id": "eacc19af-5efb-4afb-bd80-2541b63fb6f2",
   "metadata": {},
   "outputs": [
    {
     "data": {
      "image/png": "[encoded data removed]",
      "text/plain": [
       "<Figure size 1000x800 with 2 Axes>"
      ]
     },
     "metadata": {},
     "output_type": "display_data"
    }
   ],
   "source": [
    "import pandas as pd\n",
    "import numpy as np\n",
    "import seaborn as sns\n",
    "import matplotlib.pyplot as plt\n",
    "from scipy.stats import chi2_contingency\n",
    "\n",
    "# Fonction pour calculer le Cramer's V\n",
    "def cramers_v(confusion_matrix):\n",
    "    chi2, p, dof, expected = chi2_contingency(confusion_matrix)\n",
    "    n = confusion_matrix.sum().sum()\n",
    "    r, k = confusion_matrix.shape\n",
    "    return np.sqrt(chi2 / (n * (min(k - 1, r - 1))))\n",
    "\n",
    "# Fonction pour créer une matrice de Cramer's V pour les colonnes spécifiées\n",
    "def cramer_v_matrix(df_quanti, cols):\n",
    "    n = len(cols)\n",
    "    matrix = np.zeros((n, n))\n",
    "    \n",
    "    for i in range(n):\n",
    "        for j in range(i, n):\n",
    "            if i == j:\n",
    "                matrix[i, j] = 1.0 \n",
    "            else:\n",
    "                contingency_table = pd.crosstab(df_quanti[cols[i]], df_quanti[cols[j]])\n",
    "                matrix[i, j] = cramers_v(contingency_table)\n",
    "                matrix[j, i] = matrix[i, j]\n",
    "    \n",
    "    return pd.DataFrame(matrix, index=cols, columns=cols)\n",
    "\n",
    "# Liste des colonnes à analyser\n",
    "cols = df_quanti.columns\n",
    "\n",
    "# Calcul de la matrice de Cramer's V\n",
    "cramers_v_df = cramer_v_matrix(df_quanti, cols)\n",
    "\n",
    "# Visualisation de la matrice de Cramer's V avec une heatmap\n",
    "plt.figure(figsize=(10, 8))\n",
    "sns.heatmap(cramers_v_df, annot=True, cmap='Blues', linewidths=0.5, vmin=0, vmax=1)\n",
    "plt.title(\"Matrice de Dépendance - Cramer's V\", fontsize=16)\n",
    "plt.xticks(rotation=45, ha='right', fontsize=10)\n",
    "plt.yticks(fontsize=10)\n",
    "\n",
    "plt.tight_layout()\n",
    "plt.show()\n"
   ]
  },
  {
   "cell_type": "code",
   "execution_count": 32,
   "id": "26d184a9-818c-45f1-88fc-fc62368f55b7",
   "metadata": {},
   "outputs": [
    {
     "data": {
      "text/plain": [
       "couple avec enfants              5617\n",
       "ménage de famille élargi         3331\n",
       "Ménage monoparental nucléaire    2357\n",
       "Ménage monoparental élargi       1346\n",
       "Ménage unipersonnel               536\n",
       "couple sans enfants               518\n",
       "Name: typmen, dtype: int64"
      ]
     },
     "execution_count": 32,
     "metadata": {},
     "output_type": "execute_result"
    }
   ],
   "source": [
    "df_quanti.typmen.value_counts()"
   ]
  },
  {
   "cell_type": "code",
   "execution_count": 33,
   "id": "2f66f5f7-19e0-459a-bcb9-ff7664e22076",
   "metadata": {},
   "outputs": [
    {
     "data": {
      "text/plain": [
       "Homme    9442\n",
       "Femme    4263\n",
       "Name: sexecm, dtype: int64"
      ]
     },
     "execution_count": 33,
     "metadata": {},
     "output_type": "execute_result"
    }
   ],
   "source": [
    "df_quanti.sexecm.value_counts()"
   ]
  },
  {
   "cell_type": "code",
   "execution_count": null,
   "id": "6dd70a73-9e2f-451d-bc55-d3beb7906bb3",
   "metadata": {},
   "outputs": [],
   "source": []
  },
  {
   "cell_type": "code",
   "execution_count": null,
   "id": "dbc9269f-5818-43a5-a583-4acc8464f360",
   "metadata": {},
   "outputs": [],
   "source": []
  }
 ],
 "metadata": {
  "kernelspec": {
   "display_name": "Python 3 (ipykernel)",
   "language": "python",
   "name": "python3"
  },
  "language_info": {
   "codemirror_mode": {
    "name": "ipython",
    "version": 3
   },
   "file_extension": ".py",
   "mimetype": "text/x-python",
   "name": "python",
   "nbconvert_exporter": "python",
   "pygments_lexer": "ipython3",
   "version": "3.9.13"
  }
 },
 "nbformat": 4,
 "nbformat_minor": 5
}
