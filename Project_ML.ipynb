{
 "cells": [
  {
   "cell_type": "markdown",
   "id": "a76ec538-a30e-4eb2-8472-49b9fe6a4797",
   "metadata": {},
   "source": [
    "<div style=\"background-color: #fbe3d7; border: 2px solid #e3b59d; border-radius: 10px; padding: 20px; font-family: Arial, sans-serif; color: #801313; text-align: center;\">\n",
    "  <h2 style=\"margin: 0;\">\n",
    "    📊 🔍 Projet Machine learning <br>\n",
    "    Modélisation du pauvreté: <br>\n",
    "    <span style=\"font-weight: normal;\">Les Determinants de la pauvreté ?</span>\n",
    "  </h2>\n",
    "</div>\n"
   ]
  },
  {
   "cell_type": "markdown",
   "id": "3529638d-c8f8-46d5-ab95-9dba561c3d73",
   "metadata": {},
   "source": [
    "<div style=\"background-color: #fdf1eb; border: 2px solid #e3b59d; border-radius: 10px; padding: 20px; font-family: 'Times New Roman', serif; color: #b33a3a; text-align: justify; line-height: 1.6;\">\n",
    "  <h1 style=\"text-align: center; color: #a62828; font-weight: bold;\">Introduction</h1>\n",
    "</div>"
   ]
  },
  {
   "cell_type": "markdown",
   "id": "7b3a30f3-2fe9-45fa-9b29-b42bb31f1635",
   "metadata": {},
   "source": [
    "<div style=\"background-color: #f7f7f7; border: 3px solid #d1c7b7; border-radius: 15px; padding: 30px; font-family: 'time new roman', sans-serif; color: #333; text-align: justify; line-height: 1.8; box-shadow: 0 4px 8px rgba(0, 0, 0, 0.1);\">\n",
    "    <p>\n",
    "    La pauvreté est un défi majeur auquel de nombreux pays sont confrontés, et sa compréhension est essentielle pour orienter les politiques publiques et les interventions ciblées. \n",
    "    Ce projet vise à développer un modèle de machine learning capable de prédire si un ménage est pauvre ou non en fonction de ses caractéristiques socio-économiques et démographiques.\n",
    "  </p>\n",
    "  <p>\n",
    "    Grâce à l'analyse de données pertinentes, ce modèle permettra non seulement de mieux comprendre les facteurs associés à la pauvreté, mais aussi de fournir un outil prédictif utile pour les décideurs et les organisations travaillant dans le domaine de la lutte contre la pauvreté. \n",
    "    En automatisant cette analyse, le projet contribuera à identifier les ménages les plus vulnérables, facilitant ainsi la mise en œuvre de solutions adaptées et efficaces.\n",
    "  </p>\n",
    "</div>\n"
   ]
  },
  {
   "cell_type": "markdown",
   "id": "69556b5b-0aca-46d6-b6ad-8620cf8c4685",
   "metadata": {},
   "source": [
    "<div style=\"background-color: #fdf1eb; border: 2px solid #e3b59d; border-radius: 10px; padding: 20px; font-family: 'Times New Roman', serif; color: #b33a3a; text-align: justify; line-height: 1.6;\">\n",
    "  <h1 style=\"text-align: center; color: #a62828; font-weight: bold;\">Source des données</h1>\n",
    "</div>"
   ]
  },
  {
   "cell_type": "markdown",
   "id": "80bc10ac-2432-49b6-9bc9-28b7ab020821",
   "metadata": {},
   "source": [
    "<div style=\"background-color: #f7f7f7; border: 3px solid #d1c7b7; border-radius: 15px; padding: 30px; font-family: 'Times New Roman', sans-serif; color: #333; text-align: justify; line-height: 1.8; box-shadow: 0 4px 8px rgba(0, 0, 0, 0.1);\">\n",
    "  <p style=\"font-size: 1.1em; margin-bottom: 20px; text-align: justify;\">\n",
    "    L’Enquête Permanente sur les Conditions de Vie des Ménages (EPCVM) 2019, menée par l’Agence Nationale de la Statistique et de l’Analyse Démographique et Économique (ANSADE), constitue une source précieuse pour analyser la pauvreté et les conditions de vie des ménages. Cette enquête vise à fournir des indicateurs détaillés sur les aspects socio-économiques et démographiques des ménages, permettant ainsi de dresser un portrait global des disparités et des vulnérabilités au sein de la population.\n",
    "  </p>\n",
    "  \n",
    "  <h3 style=\"color: #2a5d84; font-size: 1.5em; margin-bottom: 10px;\">Structure des données</h3>\n",
    "  <p style=\"font-size: 1.1em; margin-bottom: 20px;\">\n",
    "    Les données de l’EPCVM 2019 comprennent plusieurs catégories de variables, notamment :\n",
    "  </p>\n",
    "  \n",
    "  <ul style=\"font-size: 1.1em; margin-left: 20px; line-height: 1.8;\">\n",
    "    <li><strong>Caractéristiques démographiques :</strong> Taille des ménages, composition par âge et sexe, situation matrimoniale.</li>\n",
    "    <li><strong>Conditions économiques :</strong> Niveau de revenu, source principale de revenus, emploi et activité économique des membres actifs.</li>\n",
    "    <li><strong>Conditions de vie :</strong> Accès aux services de base tels que l’eau potable, l’électricité, et les infrastructures sanitaires.</li>\n",
    "    <li><strong>Éducation et santé :</strong> Niveau d’éducation des membres, accès aux soins médicaux, couverture sanitaire.</li>\n",
    "    <li><strong>Habitat et logement :</strong> Type de logement, matériaux de construction, nombre de pièces, densité de la population dans le logement.</li>\n",
    "  </ul>\n",
    "</div>\n"
   ]
  },
  {
   "cell_type": "markdown",
   "id": "8a141e53-cb6d-4727-9503-71c549b09785",
   "metadata": {},
   "source": [
    "<div style=\"background-color: #fdf1eb; border: 2px solid #e3b59d; border-radius: 10px; padding: 20px; font-family: 'Times New Roman', serif; color: #b33a3a; text-align: justify; line-height: 1.6;\">\n",
    "  <h1 style=\"text-align: center; color: #a62828; font-weight: bold;\">Importation des bibliothèques</h1>\n",
    "  <p>"
   ]
  },
  {
   "cell_type": "code",
   "execution_count": 1,
   "id": "2a4bb344-ff3c-435e-a2fd-6fe5eae58970",
   "metadata": {},
   "outputs": [],
   "source": [
    "import pandas as pd \n",
    "import numpy as np \n",
    "import matplotlib.pyplot as plt\n",
    "import seaborn as sns"
   ]
  },
  {
   "cell_type": "code",
   "execution_count": 76,
   "id": "5fbe7118-d87c-4816-a194-67c432e2b9bd",
   "metadata": {},
   "outputs": [],
   "source": [
    "import warnings\n",
    "\n",
    "# Ignorer tous les warnings\n",
    "warnings.filterwarnings('ignore')\n"
   ]
  },
  {
   "cell_type": "markdown",
   "id": "ca125125-f5d2-4e89-a714-1ee110c3a30d",
   "metadata": {},
   "source": [
    "<div style=\"background-color: #fdf1eb; border: 2px solid #e3b59d; border-radius: 10px; padding: 20px; font-family: 'Times New Roman', serif; color: #b33a3a; text-align: justify; line-height: 1.6;\">\n",
    "  <h1 style=\"text-align: center; color: #a62828; font-weight: bold;\">Importation du jeu des données</h1>\n",
    "</div>"
   ]
  },
  {
   "cell_type": "code",
   "execution_count": 77,
   "id": "c8ba8ef3-df62-413b-b442-cdb94b47d43b",
   "metadata": {},
   "outputs": [
    {
     "data": {
      "text/plain": [
       "(13705, 38)"
      ]
     },
     "execution_count": 77,
     "metadata": {},
     "output_type": "execute_result"
    }
   ],
   "source": [
    "data=pd.read_csv('EPCVM_2019.csv')\n",
    "data.shape"
   ]
  },
  {
   "cell_type": "markdown",
   "id": "94603426-a8fc-489b-8ef4-b8761f429654",
   "metadata": {},
   "source": [
    "<div style=\"background-color: #f7f7f7; border: 3px solid #d1c7b7; border-radius: 15px; padding: 30px; font-family: 'time new roman', sans-serif; color: #333; text-align: justify; line-height: 1.8; box-shadow: 0 4px 8px rgba(0, 0, 0, 0.1);\">\n",
    "    <p>\n",
    "   Notre jeu des données contient 13705 observations et 38 variables.\n",
    "  </p>\n",
    "</div>\n"
   ]
  },
  {
   "cell_type": "markdown",
   "id": "8d5db355-bcd3-4452-9a58-fce5f2ae1771",
   "metadata": {},
   "source": [
    "<div style=\"background-color: #fdf1eb; border: 2px solid #e3b59d; border-radius: 10px; padding: 20px; font-family: 'Times New Roman', serif; color: #b33a3a; text-align: justify; line-height: 1.6;\">\n",
    "  <h1 style=\"text-align: center; color: #a62828; font-weight: bold;\">Analyses Exploratoires des données</h1>\n",
    "</div>"
   ]
  },
  {
   "cell_type": "markdown",
   "id": "15334069-6d9d-4d72-bf48-1df34cd61b18",
   "metadata": {},
   "source": [
    "<div style=\"background-color: #f7f7f7; border: 3px solid #d1c7b7; border-radius: 15px; padding: 30px; font-family: 'time new roman', sans-serif; color: #333; text-align: justify; line-height: 1.8; box-shadow: 0 4px 8px rgba(0, 0, 0, 0.1);\">\n",
    "    <p>\n",
    "    Dans cette section vous allons faires des analyses exploratoires sur notre bases base des données on vas proceder par une selection des variables qu'on vas utiliser dans notre étude qui seront introduit dans notre modèl et ensuite faire faire des netoyages des données qui vas inclures gestion des valeurs manquantes detection des valeurs abérantes et finir par une visualisation des données.\n",
    "  </p>\n",
    "</div>\n"
   ]
  },
  {
   "cell_type": "markdown",
   "id": "396ed0a6-72c8-45b9-aa55-2baa45e29602",
   "metadata": {},
   "source": [
    "<div style=\"background-color: #fdf1eb; border: 2px solid #e3b59d; border-radius: 10px; padding: 20px; font-family: 'Times New Roman', serif; color: #b33a3a; text-align: justify; line-height: 1.6;\">\n",
    "  <h2 style=\"text-align: center; color: #a62828; font-weight: bold;\">Selection des Variales </h2>\n",
    "</div>"
   ]
  },
  {
   "cell_type": "code",
   "execution_count": 78,
   "id": "8b3aefa4-3447-49d1-84de-50e5e1af7151",
   "metadata": {},
   "outputs": [],
   "source": [
    "# Renomination des valeurs du variable milieu \n",
    "data['milieu']=data['milieu'].replace(['rural 2000'], \"Rural\")\n",
    "data['milieu']=data['milieu'].replace(['urbain 2000'], \"Urbain\")"
   ]
  },
  {
   "cell_type": "code",
   "execution_count": 79,
   "id": "a4fdc33e-7de4-4501-bd4c-a1ef752bdc98",
   "metadata": {},
   "outputs": [],
   "source": [
    "# selection des variables à etudier\n",
    "data_model=data[['milieu','wilaya', 'taille', 'typmen', 'sexecm','sitmatcm','nivcm','deptot','aliment','depeduc', 'autdep','depsante', 'logement' ,'transp','pauvre' ]]"
   ]
  },
  {
   "cell_type": "markdown",
   "id": "2b690635-c776-4dd8-a2a7-e68e7d28293f",
   "metadata": {},
   "source": [
    "<ul class=\"ul_content\">\n",
    "    <li><b>typmen</b> : Type de ménage</li>\n",
    "    <li><b>sexecm</b> : Sexe du chef de ménage</li>\n",
    "    <li><b>sitmatcm</b> : Situation matrimoniale du chef de ménage</li>\n",
    "    <li><b>nivcm</b> : Niveau d’éducation du chef de ménage</li>\n",
    "    <li><b>deptot</b> : Dépenses totales du ménage</li>\n",
    "    <li><b>aliment</b> : Dépenses alimentaires du ménage</li>\n",
    "    <li><b>depeduc</b> : Dépenses en éducation du ménage</li>\n",
    "    <li><b>autdep</b> : Autres dépenses du ménage</li>\n",
    "    <li><b>depsante</b> : Dépenses en santé du ménage</li>\n",
    "    <li><b>logement</b> : Dépenses liées au logement du ménage</li>\n",
    "    <li><b>transp</b> : Dépenses en transport du ménage</li>\n",
    "    <li><b>pauvre</b> : Indicateur de pauvreté du ménage (cible de prédiction)</li>\n",
    "</ul>\n"
   ]
  },
  {
   "cell_type": "markdown",
   "id": "81f12eda-e427-4328-b5fd-9505e6bbbbe2",
   "metadata": {},
   "source": [
    "<div style=\"background-color: #fdf1eb; border: 2px solid #e3b59d; border-radius: 10px; padding: 20px; font-family: 'Times New Roman', serif; color: #b33a3a; text-align: justify; line-height: 1.6;\">\n",
    "  <h2 style=\"text-align: center; color: #a62828; font-weight: bold;\">Netoyages des données </h2>\n",
    "</div>"
   ]
  },
  {
   "cell_type": "markdown",
   "id": "d7d2db68-852f-4e9f-8f2a-349388a12466",
   "metadata": {},
   "source": [
    "<div style=\"background-color: #f7f7f7; border: 3px solid #d1c7b7; border-radius: 15px; padding: 30px; font-family: 'time new roman', sans-serif; color: #333; text-align: justify; line-height: 1.8; box-shadow: 0 4px 8px rgba(0, 0, 0, 0.1);\">\n",
    "    <p>\n",
    "  Nous allons procéder à un nettoyage approfondi de notre base de données en identifiant et en traitant les valeurs manquantes, ainsi que les valeurs aberrantes. Cette étape est cruciale pour améliorer la qualité et la fiabilité des données, afin d'assurer des analyses plus précises et des résultats plus fiables. Nous allons utiliser diverses techniques pour combler les valeurs manquantes, comme l'imputation, et pour détecter et traiter les valeurs aberrantes, telles que les outliers. L'objectif est de rendre notre base de données propre et cohérente, ce qui facilitera les étapes suivantes de notre projet d'analyse ou de modélisation.\n",
    "  </p>\n",
    "</div>\n"
   ]
  },
  {
   "cell_type": "markdown",
   "id": "5b7dba88-d24e-4f19-b5a2-f41a6b174a5e",
   "metadata": {},
   "source": [
    "<div style=\"background-color: #fdf1eb; border: 2px solid #e3b59d; border-radius: 10px; padding: 20px; font-family: 'Times New Roman', serif; color: #b33a3a; text-align: justify; line-height: 1.6;\">\n",
    "  <h3 style=\"text-align: center; color: #a62828; font-weight: bold;\">Traitement des Valeurs manquantes </h3>\n",
    "</div>"
   ]
  },
  {
   "cell_type": "code",
   "execution_count": 80,
   "id": "3c4267a6-16db-4364-b391-c94b4fdf01fe",
   "metadata": {},
   "outputs": [
    {
     "data": {
      "text/html": [
       "<div>\n",
       "<style scoped>\n",
       "    .dataframe tbody tr th:only-of-type {\n",
       "        vertical-align: middle;\n",
       "    }\n",
       "\n",
       "    .dataframe tbody tr th {\n",
       "        vertical-align: top;\n",
       "    }\n",
       "\n",
       "    .dataframe thead th {\n",
       "        text-align: right;\n",
       "    }\n",
       "</style>\n",
       "<table border=\"1\" class=\"dataframe\">\n",
       "  <thead>\n",
       "    <tr style=\"text-align: right;\">\n",
       "      <th></th>\n",
       "      <th>index</th>\n",
       "      <th>% missing_value</th>\n",
       "    </tr>\n",
       "  </thead>\n",
       "  <tbody>\n",
       "    <tr>\n",
       "      <th>0</th>\n",
       "      <td>depsante</td>\n",
       "      <td>62.327618</td>\n",
       "    </tr>\n",
       "    <tr>\n",
       "      <th>1</th>\n",
       "      <td>transp</td>\n",
       "      <td>60.160525</td>\n",
       "    </tr>\n",
       "    <tr>\n",
       "      <th>2</th>\n",
       "      <td>depeduc</td>\n",
       "      <td>43.867202</td>\n",
       "    </tr>\n",
       "    <tr>\n",
       "      <th>3</th>\n",
       "      <td>logement</td>\n",
       "      <td>3.889092</td>\n",
       "    </tr>\n",
       "    <tr>\n",
       "      <th>4</th>\n",
       "      <td>autdep</td>\n",
       "      <td>1.094491</td>\n",
       "    </tr>\n",
       "    <tr>\n",
       "      <th>5</th>\n",
       "      <td>aliment</td>\n",
       "      <td>0.569135</td>\n",
       "    </tr>\n",
       "    <tr>\n",
       "      <th>6</th>\n",
       "      <td>sitmatcm</td>\n",
       "      <td>0.248085</td>\n",
       "    </tr>\n",
       "    <tr>\n",
       "      <th>7</th>\n",
       "      <td>deptot</td>\n",
       "      <td>0.072966</td>\n",
       "    </tr>\n",
       "  </tbody>\n",
       "</table>\n",
       "</div>"
      ],
      "text/plain": [
       "      index  % missing_value\n",
       "0  depsante        62.327618\n",
       "1    transp        60.160525\n",
       "2   depeduc        43.867202\n",
       "3  logement         3.889092\n",
       "4    autdep         1.094491\n",
       "5   aliment         0.569135\n",
       "6  sitmatcm         0.248085\n",
       "7    deptot         0.072966"
      ]
     },
     "execution_count": 80,
     "metadata": {},
     "output_type": "execute_result"
    }
   ],
   "source": [
    "data_missing_value=data_model.isnull().sum()\n",
    "data_missing_value=data_missing_value/len(data_model)*100\n",
    "\n",
    "missdata=data_missing_value.drop(data_missing_value[data_missing_value==0].index).sort_values(ascending=False).reset_index(name=('% missing_value'))\n",
    "missdata"
   ]
  },
  {
   "cell_type": "markdown",
   "id": "e494d70f-c0e6-4a5f-90e6-124f6a8ed931",
   "metadata": {},
   "source": [
    "<div style=\"background-color: #f7f7f7; border: 3px solid #d1c7b7; border-radius: 15px; padding: 30px; font-family: 'time new roman', sans-serif; color: #333; text-align: justify; line-height: 1.8; box-shadow: 0 4px 8px rgba(0, 0, 0, 0.1);\">\n",
    "    <p>\n",
    "On observe que nous avons des variables qui ont des valeurs manquantes surtout les variables depense en santé, dépense en transport et les dépense en éducation qui ont plus de 40% des valeurs manquantes.\n",
    "  </p>\n",
    "    <p> On vas utiliser la méthode imputation pour remplacer les valeurs manquante </p>\n",
    "    <ul>\n",
    "          <li> Pour la <b>Variable qualitative</b> nous allons remplacer les valeurs manquantes par le mode</li>\n",
    "        <li>Pour les <b>Variables Quantitatives</b> nous remplacer les valeurs manquantes aléatoirement mais en se basant sur une intervalle qui utlise la loi uniform</li> </ul>\n",
    "</div>\n"
   ]
  },
  {
   "cell_type": "code",
   "execution_count": 81,
   "id": "08d78114-5594-47e6-89e2-cc7ffcf6cc67",
   "metadata": {},
   "outputs": [],
   "source": [
    "# Remplacer les valeurs manquantes de la colonne 'sitmatcm' par la valeur la plus fréquente (mode)\n",
    "mode_value = data_model['sitmatcm'].mode()[0]  # Prendre la première valeur du mode\n",
    "data_model['sitmatcm'].fillna(mode_value, inplace=True)\n",
    "\n",
    "# Remplacons les valeurs manquantes des variables quantitatives aléatoirement \n",
    "import numpy as np\n",
    "\n",
    "# Liste des variables pour lesquelles je vais remplacer les valeurs manquantes\n",
    "variables = ['depsante', 'transp', 'depeduc', 'logement', 'autdep', 'aliment', 'deptot']\n",
    "\n",
    "# Parcourir chaque variable pour traiter les valeurs manquantes\n",
    "for var in variables:\n",
    "    # Calcul de la moyenne et de l'écart-type de la variable\n",
    "    mean_value = data_model[var].mean()\n",
    "    std_value = data_model[var].std()\n",
    "    \n",
    "    # Calcul du nombre de valeurs manquantes (NaN) dans la variable\n",
    "    na_count = data_model[var].isnull().sum()  # `sum()` donne le nombre de NaN\n",
    "    \n",
    "    # Générer des valeurs aléatoires dans l'intervalle [moyenne - écart-type, moyenne + écart-type]\n",
    "    random_values = np.random.uniform(mean_value - std_value, mean_value + std_value, na_count)\n",
    "    \n",
    "    # Remplacer les valeurs manquantes par les valeurs générées\n",
    "    data_model.loc[data_model[var].isnull(), var] = random_values\n"
   ]
  },
  {
   "cell_type": "code",
   "execution_count": 83,
   "id": "ee6d1d1d-ea91-4c53-a287-a127f4bbdba9",
   "metadata": {},
   "outputs": [
    {
     "name": "stdout",
     "output_type": "stream",
     "text": [
      "Pourcentage des valeurs manquantes dans la base de données : 0.00%\n"
     ]
    }
   ],
   "source": [
    "# Calculer le nombre total de valeurs manquantes dans toutes les colonnes\n",
    "total_missing = data_model.isnull().sum().sum()\n",
    "\n",
    "# Calculer le nombre total de valeurs dans la base de données\n",
    "total_values = data_model.size\n",
    "\n",
    "# Calculer le pourcentage de valeurs manquantes\n",
    "missing_percentage = (total_missing / total_values) * 100\n",
    "\n",
    "# Afficher le pourcentage de valeurs manquantes\n",
    "print(f\"Pourcentage des valeurs manquantes dans la base de données : {missing_percentage:.2f}%\")\n"
   ]
  },
  {
   "cell_type": "markdown",
   "id": "c88f4635-4ea4-4739-8f5c-c5000f284246",
   "metadata": {},
   "source": [
    "<div style=\"background-color: #f7f7f7; border: 3px solid #d1c7b7; border-radius: 15px; padding: 30px; font-family: 'time new roman', sans-serif; color: #333; text-align: justify; line-height: 1.8; box-shadow: 0 4px 8px rgba(0, 0, 0, 0.1);\">\n",
    "    <p>\n",
    "   Suite au processus de nettoyage des données, nous avons pu identifier et traiter toutes les valeurs manquantes dans notre base de données. Grâce à ce nettoyage, nous pouvons affirmer que notre base de données est désormais complète et ne contient plus de valeurs manquantes, ce qui garantit la qualité et la fiabilité des analyses futures.\n",
    "  </p>\n",
    "</div>\n"
   ]
  },
  {
   "cell_type": "markdown",
   "id": "48407a09-6b28-4638-9f25-95b20158c9f4",
   "metadata": {},
   "source": [
    "<div style=\"background-color: #fdf1eb; border: 2px solid #e3b59d; border-radius: 10px; padding: 20px; font-family: 'Times New Roman', serif; color: #b33a3a; text-align: justify; line-height: 1.6;\">\n",
    "  <h3 style=\"text-align: center; color: #a62828; font-weight: bold;\">Traitement des Valeurs Aberrantes </h3>\n",
    "</div>"
   ]
  },
  {
   "cell_type": "code",
   "execution_count": 112,
   "id": "2cf0ea24-31d2-4cfb-946d-4e989f9af906",
   "metadata": {},
   "outputs": [
    {
     "data": {
      "text/html": [
       "<div>\n",
       "<style scoped>\n",
       "    .dataframe tbody tr th:only-of-type {\n",
       "        vertical-align: middle;\n",
       "    }\n",
       "\n",
       "    .dataframe tbody tr th {\n",
       "        vertical-align: top;\n",
       "    }\n",
       "\n",
       "    .dataframe thead th {\n",
       "        text-align: right;\n",
       "    }\n",
       "</style>\n",
       "<table border=\"1\" class=\"dataframe\">\n",
       "  <thead>\n",
       "    <tr style=\"text-align: right;\">\n",
       "      <th></th>\n",
       "      <th>taille</th>\n",
       "      <th>deptot</th>\n",
       "      <th>aliment</th>\n",
       "      <th>depeduc</th>\n",
       "      <th>autdep</th>\n",
       "      <th>depsante</th>\n",
       "      <th>logement</th>\n",
       "      <th>transp</th>\n",
       "    </tr>\n",
       "  </thead>\n",
       "  <tbody>\n",
       "    <tr>\n",
       "      <th>count</th>\n",
       "      <td>13705.00</td>\n",
       "      <td>13705.00</td>\n",
       "      <td>13705.00</td>\n",
       "      <td>13705.00</td>\n",
       "      <td>13705.00</td>\n",
       "      <td>13705.00</td>\n",
       "      <td>13705.00</td>\n",
       "      <td>13705.00</td>\n",
       "    </tr>\n",
       "    <tr>\n",
       "      <th>mean</th>\n",
       "      <td>5.47</td>\n",
       "      <td>1044862.08</td>\n",
       "      <td>607294.20</td>\n",
       "      <td>19058.41</td>\n",
       "      <td>86674.88</td>\n",
       "      <td>114598.02</td>\n",
       "      <td>157014.57</td>\n",
       "      <td>68335.09</td>\n",
       "    </tr>\n",
       "    <tr>\n",
       "      <th>std</th>\n",
       "      <td>2.80</td>\n",
       "      <td>735977.62</td>\n",
       "      <td>333727.18</td>\n",
       "      <td>27464.96</td>\n",
       "      <td>75438.93</td>\n",
       "      <td>124069.89</td>\n",
       "      <td>250206.21</td>\n",
       "      <td>70566.71</td>\n",
       "    </tr>\n",
       "    <tr>\n",
       "      <th>min</th>\n",
       "      <td>1.00</td>\n",
       "      <td>3360.00</td>\n",
       "      <td>800.00</td>\n",
       "      <td>2.00</td>\n",
       "      <td>120.00</td>\n",
       "      <td>2.20</td>\n",
       "      <td>100.00</td>\n",
       "      <td>8.47</td>\n",
       "    </tr>\n",
       "    <tr>\n",
       "      <th>25%</th>\n",
       "      <td>3.00</td>\n",
       "      <td>571379.00</td>\n",
       "      <td>363980.00</td>\n",
       "      <td>4783.11</td>\n",
       "      <td>34080.00</td>\n",
       "      <td>36000.00</td>\n",
       "      <td>36000.00</td>\n",
       "      <td>19970.32</td>\n",
       "    </tr>\n",
       "    <tr>\n",
       "      <th>50%</th>\n",
       "      <td>5.00</td>\n",
       "      <td>875480.00</td>\n",
       "      <td>554600.00</td>\n",
       "      <td>10830.31</td>\n",
       "      <td>66780.00</td>\n",
       "      <td>86400.00</td>\n",
       "      <td>84000.00</td>\n",
       "      <td>49227.80</td>\n",
       "    </tr>\n",
       "    <tr>\n",
       "      <th>75%</th>\n",
       "      <td>7.00</td>\n",
       "      <td>1312860.00</td>\n",
       "      <td>793320.00</td>\n",
       "      <td>25979.53</td>\n",
       "      <td>116440.00</td>\n",
       "      <td>174753.78</td>\n",
       "      <td>187000.00</td>\n",
       "      <td>103305.48</td>\n",
       "    </tr>\n",
       "    <tr>\n",
       "      <th>max</th>\n",
       "      <td>36.00</td>\n",
       "      <td>11974960.00</td>\n",
       "      <td>4099540.00</td>\n",
       "      <td>568000.00</td>\n",
       "      <td>802740.00</td>\n",
       "      <td>6000000.00</td>\n",
       "      <td>5790000.00</td>\n",
       "      <td>1176000.00</td>\n",
       "    </tr>\n",
       "  </tbody>\n",
       "</table>\n",
       "</div>"
      ],
      "text/plain": [
       "         taille       deptot     aliment    depeduc     autdep    depsante  \\\n",
       "count  13705.00     13705.00    13705.00   13705.00   13705.00    13705.00   \n",
       "mean       5.47   1044862.08   607294.20   19058.41   86674.88   114598.02   \n",
       "std        2.80    735977.62   333727.18   27464.96   75438.93   124069.89   \n",
       "min        1.00      3360.00      800.00       2.00     120.00        2.20   \n",
       "25%        3.00    571379.00   363980.00    4783.11   34080.00    36000.00   \n",
       "50%        5.00    875480.00   554600.00   10830.31   66780.00    86400.00   \n",
       "75%        7.00   1312860.00   793320.00   25979.53  116440.00   174753.78   \n",
       "max       36.00  11974960.00  4099540.00  568000.00  802740.00  6000000.00   \n",
       "\n",
       "         logement      transp  \n",
       "count    13705.00    13705.00  \n",
       "mean    157014.57    68335.09  \n",
       "std     250206.21    70566.71  \n",
       "min        100.00        8.47  \n",
       "25%      36000.00    19970.32  \n",
       "50%      84000.00    49227.80  \n",
       "75%     187000.00   103305.48  \n",
       "max    5790000.00  1176000.00  "
      ]
     },
     "execution_count": 112,
     "metadata": {},
     "output_type": "execute_result"
    }
   ],
   "source": [
    "round(data_model.describe(), 2)"
   ]
  },
  {
   "cell_type": "markdown",
   "id": "aa9664f1-04fd-490c-a68d-aacd2a06290a",
   "metadata": {},
   "source": [
    "<div style=\"background-color: #f7f7f7; border: 3px solid #d1c7b7; border-radius: 15px; padding: 30px; font-family: 'time new roman', sans-serif; color: #333; text-align: justify; line-height: 1.8; box-shadow: 0 4px 8px rgba(0, 0, 0, 0.1);\">\n",
    "    <p>\n",
    "   D'après l'analyse descriptive de la base de données, nous constatons que les valeurs minimales des variables liées aux dépenses en éducation, santé, logement et transport sont négatives. Ce résultat est surprenant, car il est illogique d'avoir des montants négatifs dans ces domaines, ce qui suggère qu'il s'agit probablement de valeurs aberrantes. Une situation similaire est observée pour la variable représentant la taille des ménages, dont la valeur maximale semble également être une anomalie, car elle est bien au-delà des valeurs attendues. Ces valeurs extrêmes doivent être examinées de plus près, car elles pourraient fausser les analyses et les prédictions basées sur ces données. Il serait donc nécessaire de nettoyer et de traiter ces valeurs aberrantes afin d'améliorer la qualité des données utilisées pour les analyses ultérieures. \n",
    "  </p>\n",
    "</div>\n"
   ]
  },
  {
   "cell_type": "code",
   "execution_count": 109,
   "id": "897626b0-0e8e-461c-af53-4a143df71a6a",
   "metadata": {},
   "outputs": [
    {
     "name": "stdout",
     "output_type": "stream",
     "text": [
      "Nombre de lignes où 'depeduc' est négatif : 0.0\n"
     ]
    }
   ],
   "source": [
    "# Compter les lignes où la variable 'depeduc' est négative\n",
    "negative_depeduc_count = (data_model[data_model['depsante'] < 0].shape[0]/data_model.shape[0])*100\n",
    "\n",
    "# Afficher le nombre de lignes\n",
    "print(f\"Nombre de lignes où 'depeduc' est négatif : {negative_depeduc_count}\")\n"
   ]
  },
  {
   "cell_type": "code",
   "execution_count": 111,
   "id": "24db59ad-c6dd-4bfe-be88-03f53091a266",
   "metadata": {},
   "outputs": [],
   "source": [
    "# Remplacer les valeurs négatives de 'depeduc' par leurs valeurs absolues\n",
    "data_model['depsante'] = data_model['depsante'].apply(lambda x: abs(x) if x < 0 else x)\n",
    "data_model['logement'] = data_model['logement'].apply(lambda x: abs(x) if x < 0 else x)\n",
    "data_model['transp'] = data_model['transp'].apply(lambda x: abs(x) if x < 0 else x)\n",
    "data_model['depeduc'] = data_model['depeduc'].apply(lambda x: abs(x) if x < 0 else x)\n",
    "# Vérifier les premières lignes du DataFrame pour confirmer\n",
    "\n"
   ]
  },
  {
   "cell_type": "code",
   "execution_count": 20,
   "id": "e95ae2da-7706-418b-82ad-fa98d013f03a",
   "metadata": {},
   "outputs": [
    {
     "data": {
      "image/png": "[encoded data removed]",
      "text/plain": [
       "<Figure size 1600x1000 with 2 Axes>"
      ]
     },
     "metadata": {},
     "output_type": "display_data"
    }
   ],
   "source": [
    "plt.figure(figsize=(16,10))\n",
    "sns.heatmap(data_model.corr(),\n",
    "           cmap='Blues',\n",
    "           annot=True,\n",
    "           square=True)\n",
    "plt.show()"
   ]
  },
  {
   "cell_type": "code",
   "execution_count": 24,
   "id": "c7a26644-65d0-4e4a-a629-0afa602174d5",
   "metadata": {},
   "outputs": [],
   "source": [
    "df_quanti=data_model.select_dtypes(exclude=['float64', 'float32'])"
   ]
  },
  {
   "cell_type": "code",
   "execution_count": 31,
   "id": "eacc19af-5efb-4afb-bd80-2541b63fb6f2",
   "metadata": {},
   "outputs": [
    {
     "data": {
      "image/png": "[encoded data removed]",
      "text/plain": [
       "<Figure size 1000x800 with 2 Axes>"
      ]
     },
     "metadata": {},
     "output_type": "display_data"
    }
   ],
   "source": [
    "import pandas as pd\n",
    "import numpy as np\n",
    "import seaborn as sns\n",
    "import matplotlib.pyplot as plt\n",
    "from scipy.stats import chi2_contingency\n",
    "\n",
    "# Fonction pour calculer le Cramer's V\n",
    "def cramers_v(confusion_matrix):\n",
    "    chi2, p, dof, expected = chi2_contingency(confusion_matrix)\n",
    "    n = confusion_matrix.sum().sum()\n",
    "    r, k = confusion_matrix.shape\n",
    "    return np.sqrt(chi2 / (n * (min(k - 1, r - 1))))\n",
    "\n",
    "# Fonction pour créer une matrice de Cramer's V pour les colonnes spécifiées\n",
    "def cramer_v_matrix(df_quanti, cols):\n",
    "    n = len(cols)\n",
    "    matrix = np.zeros((n, n))\n",
    "    \n",
    "    for i in range(n):\n",
    "        for j in range(i, n):\n",
    "            if i == j:\n",
    "                matrix[i, j] = 1.0 \n",
    "            else:\n",
    "                contingency_table = pd.crosstab(df_quanti[cols[i]], df_quanti[cols[j]])\n",
    "                matrix[i, j] = cramers_v(contingency_table)\n",
    "                matrix[j, i] = matrix[i, j]\n",
    "    \n",
    "    return pd.DataFrame(matrix, index=cols, columns=cols)\n",
    "\n",
    "# Liste des colonnes à analyser\n",
    "cols = df_quanti.columns\n",
    "\n",
    "# Calcul de la matrice de Cramer's V\n",
    "cramers_v_df = cramer_v_matrix(df_quanti, cols)\n",
    "\n",
    "# Visualisation de la matrice de Cramer's V avec une heatmap\n",
    "plt.figure(figsize=(10, 8))\n",
    "sns.heatmap(cramers_v_df, annot=True, cmap='Blues', linewidths=0.5, vmin=0, vmax=1)\n",
    "plt.title(\"Matrice de Dépendance - Cramer's V\", fontsize=16)\n",
    "plt.xticks(rotation=45, ha='right', fontsize=10)\n",
    "plt.yticks(fontsize=10)\n",
    "\n",
    "plt.tight_layout()\n",
    "plt.show()\n"
   ]
  },
  {
   "cell_type": "code",
   "execution_count": 32,
   "id": "26d184a9-818c-45f1-88fc-fc62368f55b7",
   "metadata": {},
   "outputs": [
    {
     "data": {
      "text/plain": [
       "couple avec enfants              5617\n",
       "ménage de famille élargi         3331\n",
       "Ménage monoparental nucléaire    2357\n",
       "Ménage monoparental élargi       1346\n",
       "Ménage unipersonnel               536\n",
       "couple sans enfants               518\n",
       "Name: typmen, dtype: int64"
      ]
     },
     "execution_count": 32,
     "metadata": {},
     "output_type": "execute_result"
    }
   ],
   "source": [
    "df_quanti.typmen.value_counts()"
   ]
  },
  {
   "cell_type": "code",
   "execution_count": 33,
   "id": "2f66f5f7-19e0-459a-bcb9-ff7664e22076",
   "metadata": {},
   "outputs": [
    {
     "data": {
      "text/plain": [
       "Homme    9442\n",
       "Femme    4263\n",
       "Name: sexecm, dtype: int64"
      ]
     },
     "execution_count": 33,
     "metadata": {},
     "output_type": "execute_result"
    }
   ],
   "source": [
    "df_quanti.sexecm.value_counts()"
   ]
  },
  {
   "cell_type": "code",
   "execution_count": 39,
   "id": "e7121e19-3061-4e25-aaaa-586ed8504680",
   "metadata": {},
   "outputs": [],
   "source": [
    "X=data[['dr', 'menage', 'pond', 'milieu', 'wilaya', 'moughata',\n",
    "       'taille', 'pondind', 'typmen', 'cm_age', 'sexecm', 'sitmatcm', 'nivcm',\n",
    "       'sitact', 'gsecm', 'branche', 'auto12', 'occa', 'depca', 'habille',\n",
    "       'transp', 'transfv', 'depeduc', 'depsante', 'elec', 'logement', 'commu',\n",
    "       'deptot', 'aliment', 'depnal', 'autdep', 'deptete', 'deptj', 'depmedf1',\n",
    "       'deptetf1', 'quintile']]\n",
    "Y=data.pauvre"
   ]
  },
  {
   "cell_type": "code",
   "execution_count": 41,
   "id": "db6253be-ebe7-438d-98bd-143dd3bd2a9d",
   "metadata": {},
   "outputs": [
    {
     "ename": "ValueError",
     "evalue": "could not convert string to float: 'urbain 2000'",
     "output_type": "error",
     "traceback": [
      "\u001b[1;31m---------------------------------------------------------------------------\u001b[0m",
      "\u001b[1;31mValueError\u001b[0m                                Traceback (most recent call last)",
      "\u001b[1;32m~\\AppData\\Local\\Temp\\ipykernel_9944\\1732675549.py\u001b[0m in \u001b[0;36m<module>\u001b[1;34m\u001b[0m\n\u001b[0;32m      4\u001b[0m \u001b[1;33m\u001b[0m\u001b[0m\n\u001b[0;32m      5\u001b[0m \u001b[0mselector\u001b[0m\u001b[1;33m=\u001b[0m\u001b[0mSelectKBest\u001b[0m\u001b[1;33m(\u001b[0m\u001b[0mscore_func\u001b[0m\u001b[1;33m=\u001b[0m\u001b[0mf_classif\u001b[0m\u001b[1;33m,\u001b[0m \u001b[0mk\u001b[0m\u001b[1;33m=\u001b[0m\u001b[1;34m'all'\u001b[0m\u001b[1;33m)\u001b[0m\u001b[1;33m\u001b[0m\u001b[1;33m\u001b[0m\u001b[0m\n\u001b[1;32m----> 6\u001b[1;33m \u001b[0mX_new\u001b[0m\u001b[1;33m=\u001b[0m \u001b[0mselector\u001b[0m\u001b[1;33m.\u001b[0m\u001b[0mfit_transform\u001b[0m\u001b[1;33m(\u001b[0m\u001b[0mX\u001b[0m\u001b[1;33m,\u001b[0m\u001b[0mY\u001b[0m\u001b[1;33m)\u001b[0m\u001b[1;33m\u001b[0m\u001b[1;33m\u001b[0m\u001b[0m\n\u001b[0m\u001b[0;32m      7\u001b[0m \u001b[0manova_score\u001b[0m\u001b[1;33m=\u001b[0m\u001b[0mselector\u001b[0m\u001b[1;33m.\u001b[0m\u001b[0mscores_\u001b[0m\u001b[1;33m\u001b[0m\u001b[1;33m\u001b[0m\u001b[0m\n\u001b[0;32m      8\u001b[0m \u001b[0msorted_indices\u001b[0m\u001b[1;33m=\u001b[0m\u001b[0mnp\u001b[0m\u001b[1;33m.\u001b[0m\u001b[0margsort\u001b[0m\u001b[1;33m(\u001b[0m\u001b[0manova_score\u001b[0m\u001b[1;33m)\u001b[0m\u001b[1;33m[\u001b[0m\u001b[1;33m:\u001b[0m\u001b[1;33m:\u001b[0m\u001b[1;33m-\u001b[0m\u001b[1;36m1\u001b[0m\u001b[1;33m]\u001b[0m\u001b[1;33m\u001b[0m\u001b[1;33m\u001b[0m\u001b[0m\n",
      "\u001b[1;32m~\\anaconda3\\lib\\site-packages\\sklearn\\base.py\u001b[0m in \u001b[0;36mfit_transform\u001b[1;34m(self, X, y, **fit_params)\u001b[0m\n\u001b[0;32m    853\u001b[0m         \u001b[1;32melse\u001b[0m\u001b[1;33m:\u001b[0m\u001b[1;33m\u001b[0m\u001b[1;33m\u001b[0m\u001b[0m\n\u001b[0;32m    854\u001b[0m             \u001b[1;31m# fit method of arity 2 (supervised transformation)\u001b[0m\u001b[1;33m\u001b[0m\u001b[1;33m\u001b[0m\u001b[0m\n\u001b[1;32m--> 855\u001b[1;33m             \u001b[1;32mreturn\u001b[0m \u001b[0mself\u001b[0m\u001b[1;33m.\u001b[0m\u001b[0mfit\u001b[0m\u001b[1;33m(\u001b[0m\u001b[0mX\u001b[0m\u001b[1;33m,\u001b[0m \u001b[0my\u001b[0m\u001b[1;33m,\u001b[0m \u001b[1;33m**\u001b[0m\u001b[0mfit_params\u001b[0m\u001b[1;33m)\u001b[0m\u001b[1;33m.\u001b[0m\u001b[0mtransform\u001b[0m\u001b[1;33m(\u001b[0m\u001b[0mX\u001b[0m\u001b[1;33m)\u001b[0m\u001b[1;33m\u001b[0m\u001b[1;33m\u001b[0m\u001b[0m\n\u001b[0m\u001b[0;32m    856\u001b[0m \u001b[1;33m\u001b[0m\u001b[0m\n\u001b[0;32m    857\u001b[0m \u001b[1;33m\u001b[0m\u001b[0m\n",
      "\u001b[1;32m~\\anaconda3\\lib\\site-packages\\sklearn\\feature_selection\\_univariate_selection.py\u001b[0m in \u001b[0;36mfit\u001b[1;34m(self, X, y)\u001b[0m\n\u001b[0;32m    395\u001b[0m             \u001b[0mReturns\u001b[0m \u001b[0mthe\u001b[0m \u001b[0minstance\u001b[0m \u001b[0mitself\u001b[0m\u001b[1;33m.\u001b[0m\u001b[1;33m\u001b[0m\u001b[1;33m\u001b[0m\u001b[0m\n\u001b[0;32m    396\u001b[0m         \"\"\"\n\u001b[1;32m--> 397\u001b[1;33m         X, y = self._validate_data(\n\u001b[0m\u001b[0;32m    398\u001b[0m             \u001b[0mX\u001b[0m\u001b[1;33m,\u001b[0m \u001b[0my\u001b[0m\u001b[1;33m,\u001b[0m \u001b[0maccept_sparse\u001b[0m\u001b[1;33m=\u001b[0m\u001b[1;33m[\u001b[0m\u001b[1;34m\"csr\"\u001b[0m\u001b[1;33m,\u001b[0m \u001b[1;34m\"csc\"\u001b[0m\u001b[1;33m]\u001b[0m\u001b[1;33m,\u001b[0m \u001b[0mmulti_output\u001b[0m\u001b[1;33m=\u001b[0m\u001b[1;32mTrue\u001b[0m\u001b[1;33m\u001b[0m\u001b[1;33m\u001b[0m\u001b[0m\n\u001b[0;32m    399\u001b[0m         )\n",
      "\u001b[1;32m~\\anaconda3\\lib\\site-packages\\sklearn\\base.py\u001b[0m in \u001b[0;36m_validate_data\u001b[1;34m(self, X, y, reset, validate_separately, **check_params)\u001b[0m\n\u001b[0;32m    579\u001b[0m                 \u001b[0my\u001b[0m \u001b[1;33m=\u001b[0m \u001b[0mcheck_array\u001b[0m\u001b[1;33m(\u001b[0m\u001b[0my\u001b[0m\u001b[1;33m,\u001b[0m \u001b[1;33m**\u001b[0m\u001b[0mcheck_y_params\u001b[0m\u001b[1;33m)\u001b[0m\u001b[1;33m\u001b[0m\u001b[1;33m\u001b[0m\u001b[0m\n\u001b[0;32m    580\u001b[0m             \u001b[1;32melse\u001b[0m\u001b[1;33m:\u001b[0m\u001b[1;33m\u001b[0m\u001b[1;33m\u001b[0m\u001b[0m\n\u001b[1;32m--> 581\u001b[1;33m                 \u001b[0mX\u001b[0m\u001b[1;33m,\u001b[0m \u001b[0my\u001b[0m \u001b[1;33m=\u001b[0m \u001b[0mcheck_X_y\u001b[0m\u001b[1;33m(\u001b[0m\u001b[0mX\u001b[0m\u001b[1;33m,\u001b[0m \u001b[0my\u001b[0m\u001b[1;33m,\u001b[0m \u001b[1;33m**\u001b[0m\u001b[0mcheck_params\u001b[0m\u001b[1;33m)\u001b[0m\u001b[1;33m\u001b[0m\u001b[1;33m\u001b[0m\u001b[0m\n\u001b[0m\u001b[0;32m    582\u001b[0m             \u001b[0mout\u001b[0m \u001b[1;33m=\u001b[0m \u001b[0mX\u001b[0m\u001b[1;33m,\u001b[0m \u001b[0my\u001b[0m\u001b[1;33m\u001b[0m\u001b[1;33m\u001b[0m\u001b[0m\n\u001b[0;32m    583\u001b[0m \u001b[1;33m\u001b[0m\u001b[0m\n",
      "\u001b[1;32m~\\anaconda3\\lib\\site-packages\\sklearn\\utils\\validation.py\u001b[0m in \u001b[0;36mcheck_X_y\u001b[1;34m(X, y, accept_sparse, accept_large_sparse, dtype, order, copy, force_all_finite, ensure_2d, allow_nd, multi_output, ensure_min_samples, ensure_min_features, y_numeric, estimator)\u001b[0m\n\u001b[0;32m    962\u001b[0m         \u001b[1;32mraise\u001b[0m \u001b[0mValueError\u001b[0m\u001b[1;33m(\u001b[0m\u001b[1;34m\"y cannot be None\"\u001b[0m\u001b[1;33m)\u001b[0m\u001b[1;33m\u001b[0m\u001b[1;33m\u001b[0m\u001b[0m\n\u001b[0;32m    963\u001b[0m \u001b[1;33m\u001b[0m\u001b[0m\n\u001b[1;32m--> 964\u001b[1;33m     X = check_array(\n\u001b[0m\u001b[0;32m    965\u001b[0m         \u001b[0mX\u001b[0m\u001b[1;33m,\u001b[0m\u001b[1;33m\u001b[0m\u001b[1;33m\u001b[0m\u001b[0m\n\u001b[0;32m    966\u001b[0m         \u001b[0maccept_sparse\u001b[0m\u001b[1;33m=\u001b[0m\u001b[0maccept_sparse\u001b[0m\u001b[1;33m,\u001b[0m\u001b[1;33m\u001b[0m\u001b[1;33m\u001b[0m\u001b[0m\n",
      "\u001b[1;32m~\\anaconda3\\lib\\site-packages\\sklearn\\utils\\validation.py\u001b[0m in \u001b[0;36mcheck_array\u001b[1;34m(array, accept_sparse, accept_large_sparse, dtype, order, copy, force_all_finite, ensure_2d, allow_nd, ensure_min_samples, ensure_min_features, estimator)\u001b[0m\n\u001b[0;32m    744\u001b[0m                     \u001b[0marray\u001b[0m \u001b[1;33m=\u001b[0m \u001b[0marray\u001b[0m\u001b[1;33m.\u001b[0m\u001b[0mastype\u001b[0m\u001b[1;33m(\u001b[0m\u001b[0mdtype\u001b[0m\u001b[1;33m,\u001b[0m \u001b[0mcasting\u001b[0m\u001b[1;33m=\u001b[0m\u001b[1;34m\"unsafe\"\u001b[0m\u001b[1;33m,\u001b[0m \u001b[0mcopy\u001b[0m\u001b[1;33m=\u001b[0m\u001b[1;32mFalse\u001b[0m\u001b[1;33m)\u001b[0m\u001b[1;33m\u001b[0m\u001b[1;33m\u001b[0m\u001b[0m\n\u001b[0;32m    745\u001b[0m                 \u001b[1;32melse\u001b[0m\u001b[1;33m:\u001b[0m\u001b[1;33m\u001b[0m\u001b[1;33m\u001b[0m\u001b[0m\n\u001b[1;32m--> 746\u001b[1;33m                     \u001b[0marray\u001b[0m \u001b[1;33m=\u001b[0m \u001b[0mnp\u001b[0m\u001b[1;33m.\u001b[0m\u001b[0masarray\u001b[0m\u001b[1;33m(\u001b[0m\u001b[0marray\u001b[0m\u001b[1;33m,\u001b[0m \u001b[0morder\u001b[0m\u001b[1;33m=\u001b[0m\u001b[0morder\u001b[0m\u001b[1;33m,\u001b[0m \u001b[0mdtype\u001b[0m\u001b[1;33m=\u001b[0m\u001b[0mdtype\u001b[0m\u001b[1;33m)\u001b[0m\u001b[1;33m\u001b[0m\u001b[1;33m\u001b[0m\u001b[0m\n\u001b[0m\u001b[0;32m    747\u001b[0m             \u001b[1;32mexcept\u001b[0m \u001b[0mComplexWarning\u001b[0m \u001b[1;32mas\u001b[0m \u001b[0mcomplex_warning\u001b[0m\u001b[1;33m:\u001b[0m\u001b[1;33m\u001b[0m\u001b[1;33m\u001b[0m\u001b[0m\n\u001b[0;32m    748\u001b[0m                 raise ValueError(\n",
      "\u001b[1;32m~\\anaconda3\\lib\\site-packages\\pandas\\core\\generic.py\u001b[0m in \u001b[0;36m__array__\u001b[1;34m(self, dtype)\u001b[0m\n\u001b[0;32m   2062\u001b[0m \u001b[1;33m\u001b[0m\u001b[0m\n\u001b[0;32m   2063\u001b[0m     \u001b[1;32mdef\u001b[0m \u001b[0m__array__\u001b[0m\u001b[1;33m(\u001b[0m\u001b[0mself\u001b[0m\u001b[1;33m,\u001b[0m \u001b[0mdtype\u001b[0m\u001b[1;33m:\u001b[0m \u001b[0mnpt\u001b[0m\u001b[1;33m.\u001b[0m\u001b[0mDTypeLike\u001b[0m \u001b[1;33m|\u001b[0m \u001b[1;32mNone\u001b[0m \u001b[1;33m=\u001b[0m \u001b[1;32mNone\u001b[0m\u001b[1;33m)\u001b[0m \u001b[1;33m->\u001b[0m \u001b[0mnp\u001b[0m\u001b[1;33m.\u001b[0m\u001b[0mndarray\u001b[0m\u001b[1;33m:\u001b[0m\u001b[1;33m\u001b[0m\u001b[1;33m\u001b[0m\u001b[0m\n\u001b[1;32m-> 2064\u001b[1;33m         \u001b[1;32mreturn\u001b[0m \u001b[0mnp\u001b[0m\u001b[1;33m.\u001b[0m\u001b[0masarray\u001b[0m\u001b[1;33m(\u001b[0m\u001b[0mself\u001b[0m\u001b[1;33m.\u001b[0m\u001b[0m_values\u001b[0m\u001b[1;33m,\u001b[0m \u001b[0mdtype\u001b[0m\u001b[1;33m=\u001b[0m\u001b[0mdtype\u001b[0m\u001b[1;33m)\u001b[0m\u001b[1;33m\u001b[0m\u001b[1;33m\u001b[0m\u001b[0m\n\u001b[0m\u001b[0;32m   2065\u001b[0m \u001b[1;33m\u001b[0m\u001b[0m\n\u001b[0;32m   2066\u001b[0m     def __array_wrap__(\n",
      "\u001b[1;31mValueError\u001b[0m: could not convert string to float: 'urbain 2000'"
     ]
    }
   ],
   "source": [
    "# Selection des variables en se basant sur l'ANOVA\n",
    "from sklearn.feature_selection import SelectKBest, f_classif\n",
    "\n",
    "\n",
    "selector=SelectKBest(score_func=f_classif, k='all')\n",
    "X_new= selector.fit_transform(X,Y)\n",
    "anova_score=selector.scores_ \n",
    "sorted_indices=np.argsort(anova_score)[::-1]\n",
    "\n",
    "# Visualisation \n",
    "plt.figure(figsize=(12,8))\n",
    "plt.bar(x=data.feature_names[sorted_indices], height=anova_score[sorted_indices])\n",
    "plt.xticks(rotation=90)\n",
    "plt.xlabel('les caractéristiques')\n",
    "plt.ylabel('les scores ANOVA')\n",
    "plt.show()"
   ]
  },
  {
   "cell_type": "code",
   "execution_count": null,
   "id": "6dd70a73-9e2f-451d-bc55-d3beb7906bb3",
   "metadata": {},
   "outputs": [],
   "source": []
  }
 ],
 "metadata": {
  "kernelspec": {
   "display_name": "Python 3 (ipykernel)",
   "language": "python",
   "name": "python3"
  },
  "language_info": {
   "codemirror_mode": {
    "name": "ipython",
    "version": 3
   },
   "file_extension": ".py",
   "mimetype": "text/x-python",
   "name": "python",
   "nbconvert_exporter": "python",
   "pygments_lexer": "ipython3",
   "version": "3.9.13"
  }
 },
 "nbformat": 4,
 "nbformat_minor": 5
}
